{
 "cells": [
  {
   "cell_type": "code",
   "execution_count": 64,
   "id": "24db394f",
   "metadata": {},
   "outputs": [],
   "source": [
    "import pandas as pd\n",
    "import numpy as np\n",
    "import matplotlib.pyplot as plt\n",
    "import seaborn as sns\n",
    "from statsmodels.tsa.seasonal import seasonal_decompose\n",
    "from statsmodels.tsa.stattools import adfuller, kpss\n",
    "sns.set()"
   ]
  },
  {
   "cell_type": "markdown",
   "id": "68133de8",
   "metadata": {},
   "source": [
    "## Raw Claims Data: EDA"
   ]
  },
  {
   "cell_type": "code",
   "execution_count": 4,
   "id": "6cdd4eb1",
   "metadata": {},
   "outputs": [],
   "source": [
    "death_claims = pd.read_csv(\"Death Claims Data.csv\")#read raw death claims dataset"
   ]
  },
  {
   "cell_type": "code",
   "execution_count": 5,
   "id": "3bcf0ded",
   "metadata": {},
   "outputs": [
    {
     "name": "stdout",
     "output_type": "stream",
     "text": [
      "<class 'pandas.core.frame.DataFrame'>\n",
      "RangeIndex: 1066 entries, 0 to 1065\n",
      "Data columns (total 4 columns):\n",
      " #   Column             Non-Null Count  Dtype \n",
      "---  ------             --------------  ----- \n",
      " 0   DOB                1066 non-null   object\n",
      " 1   CLAIM REASON       1010 non-null   object\n",
      " 2   CLAIM DATE         1066 non-null   object\n",
      " 3   NOTIFICATION DATE  1066 non-null   object\n",
      "dtypes: object(4)\n",
      "memory usage: 33.4+ KB\n"
     ]
    }
   ],
   "source": [
    "death_claims.info()"
   ]
  },
  {
   "cell_type": "code",
   "execution_count": 6,
   "id": "26cc67eb",
   "metadata": {},
   "outputs": [
    {
     "name": "stderr",
     "output_type": "stream",
     "text": [
      "C:\\Users\\jloftus\\AppData\\Local\\Temp\\ipykernel_16172\\2437098761.py:1: DeprecationWarning: `import pandas_profiling` is going to be deprecated by April 1st. Please use `import ydata_profiling` instead.\n",
      "  from pandas_profiling import ProfileReport #run pandas profiler on raw death claims dataset\n"
     ]
    },
    {
     "data": {
      "application/vnd.jupyter.widget-view+json": {
       "model_id": "c3e91036576c4f4d8aa45e4eb471acf8",
       "version_major": 2,
       "version_minor": 0
      },
      "text/plain": [
       "Summarize dataset:   0%|          | 0/5 [00:00<?, ?it/s]"
      ]
     },
     "metadata": {},
     "output_type": "display_data"
    },
    {
     "data": {
      "application/vnd.jupyter.widget-view+json": {
       "model_id": "d23d1c55193b4718825bc713a354e6b1",
       "version_major": 2,
       "version_minor": 0
      },
      "text/plain": [
       "Generate report structure:   0%|          | 0/1 [00:00<?, ?it/s]"
      ]
     },
     "metadata": {},
     "output_type": "display_data"
    },
    {
     "data": {
      "application/vnd.jupyter.widget-view+json": {
       "model_id": "58234e801ce74dceabe07bbb42b88672",
       "version_major": 2,
       "version_minor": 0
      },
      "text/plain": [
       "Render HTML:   0%|          | 0/1 [00:00<?, ?it/s]"
      ]
     },
     "metadata": {},
     "output_type": "display_data"
    },
    {
     "data": {
      "application/vnd.jupyter.widget-view+json": {
       "model_id": "2c43fb61c7e340f580e1a945418f8092",
       "version_major": 2,
       "version_minor": 0
      },
      "text/plain": [
       "Export report to file:   0%|          | 0/1 [00:00<?, ?it/s]"
      ]
     },
     "metadata": {},
     "output_type": "display_data"
    }
   ],
   "source": [
    "from pandas_profiling import ProfileReport #run pandas profiler on raw death claims dataset\n",
    "prof = ProfileReport(death_claims)\n",
    "prof.to_file(output_file='Profile Output - Raw Death Claims Data.html')\n",
    "             \n"
   ]
  },
  {
   "cell_type": "markdown",
   "id": "9b102f4f",
   "metadata": {},
   "source": [
    "## Feature Engineering & Feature Selection"
   ]
  },
  {
   "cell_type": "markdown",
   "id": "54db4d50",
   "metadata": {},
   "source": [
    "### Drop N/As and Duplicates from Raw Death Claims data"
   ]
  },
  {
   "cell_type": "code",
   "execution_count": 7,
   "id": "02b58d6d",
   "metadata": {},
   "outputs": [
    {
     "data": {
      "text/plain": [
       "(992, 4)"
      ]
     },
     "execution_count": 7,
     "metadata": {},
     "output_type": "execute_result"
    }
   ],
   "source": [
    "death_claims = death_claims.dropna() \n",
    "death_claims = death_claims.drop_duplicates() \n",
    "death_claims.shape"
   ]
  },
  {
   "cell_type": "markdown",
   "id": "d161d938",
   "metadata": {},
   "source": [
    "### Calculate a) delay between claim date and notification date and b) age of policyholder at claim date"
   ]
  },
  {
   "cell_type": "code",
   "execution_count": 8,
   "id": "ca3488a5",
   "metadata": {},
   "outputs": [],
   "source": [
    "death_claims['CLAIM DATE']= pd.DatetimeIndex(death_claims['CLAIM DATE'].values) \n",
    "death_claims['DOB']= pd.DatetimeIndex(death_claims['DOB'].values)\n",
    "death_claims['NOTIFICATION DATE']= pd.DatetimeIndex(death_claims['NOTIFICATION DATE'].values)\n",
    "death_claims['NOTIFICATION YEAR'] = pd.PeriodIndex(death_claims['NOTIFICATION DATE'], freq='Y')\n",
    "death_claims['NOTIFICATION QUARTER'] = pd.PeriodIndex(death_claims['NOTIFICATION DATE'], freq='Q')\n",
    "death_claims['DELAY'] = death_claims['NOTIFICATION DATE'] - death_claims['CLAIM DATE'] \n",
    "death_claims['AGE'] = (death_claims['CLAIM DATE']- death_claims['DOB'])\n"
   ]
  },
  {
   "cell_type": "code",
   "execution_count": 9,
   "id": "2ed50dd6",
   "metadata": {},
   "outputs": [
    {
     "data": {
      "text/plain": [
       "(992, 8)"
      ]
     },
     "execution_count": 9,
     "metadata": {},
     "output_type": "execute_result"
    }
   ],
   "source": [
    "death_claims.shape"
   ]
  },
  {
   "cell_type": "code",
   "execution_count": 10,
   "id": "9ec14e2c",
   "metadata": {},
   "outputs": [
    {
     "name": "stdout",
     "output_type": "stream",
     "text": [
      "<class 'pandas.core.frame.DataFrame'>\n",
      "Int64Index: 992 entries, 1 to 1065\n",
      "Data columns (total 8 columns):\n",
      " #   Column                Non-Null Count  Dtype          \n",
      "---  ------                --------------  -----          \n",
      " 0   DOB                   992 non-null    datetime64[ns] \n",
      " 1   CLAIM REASON          992 non-null    object         \n",
      " 2   CLAIM DATE            992 non-null    datetime64[ns] \n",
      " 3   NOTIFICATION DATE     992 non-null    datetime64[ns] \n",
      " 4   NOTIFICATION YEAR     992 non-null    period[A-DEC]  \n",
      " 5   NOTIFICATION QUARTER  992 non-null    period[Q-DEC]  \n",
      " 6   DELAY                 992 non-null    timedelta64[ns]\n",
      " 7   AGE                   992 non-null    timedelta64[ns]\n",
      "dtypes: datetime64[ns](3), object(1), period[A-DEC](1), period[Q-DEC](1), timedelta64[ns](2)\n",
      "memory usage: 69.8+ KB\n"
     ]
    }
   ],
   "source": [
    "death_claims.info()"
   ]
  },
  {
   "cell_type": "code",
   "execution_count": 11,
   "id": "56da7fd4",
   "metadata": {},
   "outputs": [
    {
     "data": {
      "text/plain": [
       "Timedelta('35 days 14:29:30.967741935')"
      ]
     },
     "execution_count": 11,
     "metadata": {},
     "output_type": "execute_result"
    }
   ],
   "source": [
    "avg_death_delay = np.mean(death_claims['DELAY'])\n",
    "avg_death_delay"
   ]
  },
  {
   "cell_type": "code",
   "execution_count": 12,
   "id": "36eb600c",
   "metadata": {},
   "outputs": [
    {
     "data": {
      "text/plain": [
       "860    9379 days\n",
       "775    9548 days\n",
       "737    9585 days\n",
       "738    9585 days\n",
       "756    9823 days\n",
       "         ...    \n",
       "192   31862 days\n",
       "655   31956 days\n",
       "479   32778 days\n",
       "954   33251 days\n",
       "261   35213 days\n",
       "Name: AGE, Length: 992, dtype: timedelta64[ns]"
      ]
     },
     "execution_count": 12,
     "metadata": {},
     "output_type": "execute_result"
    }
   ],
   "source": [
    "death_claims['AGE'].sort_values(ascending = True)"
   ]
  },
  {
   "cell_type": "code",
   "execution_count": 13,
   "id": "4e9558ce",
   "metadata": {},
   "outputs": [
    {
     "data": {
      "text/plain": [
       "261   35213 days\n",
       "954   33251 days\n",
       "479   32778 days\n",
       "655   31956 days\n",
       "192   31862 days\n",
       "         ...    \n",
       "756    9823 days\n",
       "737    9585 days\n",
       "738    9585 days\n",
       "775    9548 days\n",
       "860    9379 days\n",
       "Name: AGE, Length: 992, dtype: timedelta64[ns]"
      ]
     },
     "execution_count": 13,
     "metadata": {},
     "output_type": "execute_result"
    }
   ],
   "source": [
    "death_claims['AGE'].sort_values(ascending = False)"
   ]
  },
  {
   "cell_type": "code",
   "execution_count": 14,
   "id": "a74a405e",
   "metadata": {},
   "outputs": [
    {
     "data": {
      "application/vnd.jupyter.widget-view+json": {
       "model_id": "86f8a055c1e54e3bab694f108acf65f4",
       "version_major": 2,
       "version_minor": 0
      },
      "text/plain": [
       "Summarize dataset:   0%|          | 0/5 [00:00<?, ?it/s]"
      ]
     },
     "metadata": {},
     "output_type": "display_data"
    },
    {
     "data": {
      "application/vnd.jupyter.widget-view+json": {
       "model_id": "7a6692a7be8741599edb5c97d05c8479",
       "version_major": 2,
       "version_minor": 0
      },
      "text/plain": [
       "Generate report structure:   0%|          | 0/1 [00:00<?, ?it/s]"
      ]
     },
     "metadata": {},
     "output_type": "display_data"
    },
    {
     "data": {
      "application/vnd.jupyter.widget-view+json": {
       "model_id": "60c629b2c23a4301ac0781863075206b",
       "version_major": 2,
       "version_minor": 0
      },
      "text/plain": [
       "Render HTML:   0%|          | 0/1 [00:00<?, ?it/s]"
      ]
     },
     "metadata": {},
     "output_type": "display_data"
    },
    {
     "data": {
      "application/vnd.jupyter.widget-view+json": {
       "model_id": "ea78b1f1fdf344dfacda17029b7fb8c7",
       "version_major": 2,
       "version_minor": 0
      },
      "text/plain": [
       "Export report to file:   0%|          | 0/1 [00:00<?, ?it/s]"
      ]
     },
     "metadata": {},
     "output_type": "display_data"
    }
   ],
   "source": [
    "from pandas_profiling import ProfileReport #Run Profile Report again\n",
    "prof = ProfileReport(death_claims)\n",
    "prof.to_file(output_file='Profile Output - Enhanced Claims Data.html')\n",
    "            "
   ]
  },
  {
   "cell_type": "markdown",
   "id": "34848869",
   "metadata": {},
   "source": [
    "### Calculate Number of Death Claims by Year and Number of Death Claims by Quarter"
   ]
  },
  {
   "cell_type": "code",
   "execution_count": 15,
   "id": "79165583",
   "metadata": {},
   "outputs": [
    {
     "data": {
      "text/plain": [
       "<AxesSubplot:xlabel='NOTIFICATION YEAR'>"
      ]
     },
     "execution_count": 15,
     "metadata": {},
     "output_type": "execute_result"
    }
   ],
   "source": [
    "death_claims_by_year = pd.pivot_table(death_claims,index=['NOTIFICATION YEAR'],aggfunc={'CLAIM DATE': len}).rename(columns={'CLAIM DATE': 'Number of Death Claims'}) \n",
    "death_claims_by_year.plot()"
   ]
  },
  {
   "cell_type": "code",
   "execution_count": 16,
   "id": "d8729991",
   "metadata": {},
   "outputs": [],
   "source": [
    "death_claims_by_q = pd.pivot_table(death_claims,index=['NOTIFICATION QUARTER'],aggfunc={'CLAIM DATE': len}).rename(columns={'CLAIM DATE': 'NUMBER OF QUARTERLY DEATH CLAIMS'})\n"
   ]
  },
  {
   "cell_type": "code",
   "execution_count": 17,
   "id": "fdf7e729",
   "metadata": {},
   "outputs": [
    {
     "name": "stdout",
     "output_type": "stream",
     "text": [
      "<class 'pandas.core.frame.DataFrame'>\n",
      "PeriodIndex: 78 entries, 2000Q4 to 2022Q2\n",
      "Freq: Q-DEC\n",
      "Data columns (total 1 columns):\n",
      " #   Column                            Non-Null Count  Dtype\n",
      "---  ------                            --------------  -----\n",
      " 0   NUMBER OF QUARTERLY DEATH CLAIMS  78 non-null     int64\n",
      "dtypes: int64(1)\n",
      "memory usage: 1.2 KB\n"
     ]
    }
   ],
   "source": [
    "death_claims_by_q\n",
    "death_claims_by_q.info()"
   ]
  },
  {
   "cell_type": "code",
   "execution_count": 18,
   "id": "d4f4b94f",
   "metadata": {},
   "outputs": [],
   "source": [
    "death_claims_by_q.to_csv(\"Death Claims by Quarter.csv\", index=True)"
   ]
  },
  {
   "cell_type": "markdown",
   "id": "fc622549",
   "metadata": {},
   "source": [
    "### Calculate Quarterly Death Claim Seasonal Variation"
   ]
  },
  {
   "cell_type": "code",
   "execution_count": 19,
   "id": "16eb5baf",
   "metadata": {},
   "outputs": [
    {
     "data": {
      "text/html": [
       "<div>\n",
       "<style scoped>\n",
       "    .dataframe tbody tr th:only-of-type {\n",
       "        vertical-align: middle;\n",
       "    }\n",
       "\n",
       "    .dataframe tbody tr th {\n",
       "        vertical-align: top;\n",
       "    }\n",
       "\n",
       "    .dataframe thead th {\n",
       "        text-align: right;\n",
       "    }\n",
       "</style>\n",
       "<table border=\"1\" class=\"dataframe\">\n",
       "  <thead>\n",
       "    <tr style=\"text-align: right;\">\n",
       "      <th></th>\n",
       "      <th>NOTIFICATION QUARTER</th>\n",
       "      <th>NUMBER OF QUARTERLY DEATH CLAIMS</th>\n",
       "      <th>NOTIFICATION YEAR</th>\n",
       "      <th>NUMBER OF ANNUAL DEATH CLAIMS</th>\n",
       "      <th>CLAIMS SEASONAL VARIATION</th>\n",
       "    </tr>\n",
       "  </thead>\n",
       "  <tbody>\n",
       "    <tr>\n",
       "      <th>64</th>\n",
       "      <td>2019Q1</td>\n",
       "      <td>18</td>\n",
       "      <td>2019</td>\n",
       "      <td>65</td>\n",
       "      <td>0.026923</td>\n",
       "    </tr>\n",
       "    <tr>\n",
       "      <th>65</th>\n",
       "      <td>2019Q2</td>\n",
       "      <td>12</td>\n",
       "      <td>2019</td>\n",
       "      <td>65</td>\n",
       "      <td>-0.065385</td>\n",
       "    </tr>\n",
       "    <tr>\n",
       "      <th>66</th>\n",
       "      <td>2019Q3</td>\n",
       "      <td>21</td>\n",
       "      <td>2019</td>\n",
       "      <td>65</td>\n",
       "      <td>0.073077</td>\n",
       "    </tr>\n",
       "    <tr>\n",
       "      <th>67</th>\n",
       "      <td>2019Q4</td>\n",
       "      <td>14</td>\n",
       "      <td>2019</td>\n",
       "      <td>65</td>\n",
       "      <td>-0.034615</td>\n",
       "    </tr>\n",
       "    <tr>\n",
       "      <th>68</th>\n",
       "      <td>2020Q1</td>\n",
       "      <td>22</td>\n",
       "      <td>2020</td>\n",
       "      <td>74</td>\n",
       "      <td>0.047297</td>\n",
       "    </tr>\n",
       "    <tr>\n",
       "      <th>69</th>\n",
       "      <td>2020Q2</td>\n",
       "      <td>20</td>\n",
       "      <td>2020</td>\n",
       "      <td>74</td>\n",
       "      <td>0.020270</td>\n",
       "    </tr>\n",
       "    <tr>\n",
       "      <th>70</th>\n",
       "      <td>2020Q3</td>\n",
       "      <td>17</td>\n",
       "      <td>2020</td>\n",
       "      <td>74</td>\n",
       "      <td>-0.020270</td>\n",
       "    </tr>\n",
       "    <tr>\n",
       "      <th>71</th>\n",
       "      <td>2020Q4</td>\n",
       "      <td>15</td>\n",
       "      <td>2020</td>\n",
       "      <td>74</td>\n",
       "      <td>-0.047297</td>\n",
       "    </tr>\n",
       "    <tr>\n",
       "      <th>72</th>\n",
       "      <td>2021Q1</td>\n",
       "      <td>22</td>\n",
       "      <td>2021</td>\n",
       "      <td>72</td>\n",
       "      <td>0.055556</td>\n",
       "    </tr>\n",
       "    <tr>\n",
       "      <th>73</th>\n",
       "      <td>2021Q2</td>\n",
       "      <td>20</td>\n",
       "      <td>2021</td>\n",
       "      <td>72</td>\n",
       "      <td>0.027778</td>\n",
       "    </tr>\n",
       "    <tr>\n",
       "      <th>74</th>\n",
       "      <td>2021Q3</td>\n",
       "      <td>11</td>\n",
       "      <td>2021</td>\n",
       "      <td>72</td>\n",
       "      <td>-0.097222</td>\n",
       "    </tr>\n",
       "    <tr>\n",
       "      <th>75</th>\n",
       "      <td>2021Q4</td>\n",
       "      <td>19</td>\n",
       "      <td>2021</td>\n",
       "      <td>72</td>\n",
       "      <td>0.013889</td>\n",
       "    </tr>\n",
       "  </tbody>\n",
       "</table>\n",
       "</div>"
      ],
      "text/plain": [
       "   NOTIFICATION QUARTER  NUMBER OF QUARTERLY DEATH CLAIMS NOTIFICATION YEAR  \\\n",
       "64               2019Q1                                18              2019   \n",
       "65               2019Q2                                12              2019   \n",
       "66               2019Q3                                21              2019   \n",
       "67               2019Q4                                14              2019   \n",
       "68               2020Q1                                22              2020   \n",
       "69               2020Q2                                20              2020   \n",
       "70               2020Q3                                17              2020   \n",
       "71               2020Q4                                15              2020   \n",
       "72               2021Q1                                22              2021   \n",
       "73               2021Q2                                20              2021   \n",
       "74               2021Q3                                11              2021   \n",
       "75               2021Q4                                19              2021   \n",
       "\n",
       "    NUMBER OF ANNUAL DEATH CLAIMS  CLAIMS SEASONAL VARIATION  \n",
       "64                             65                   0.026923  \n",
       "65                             65                  -0.065385  \n",
       "66                             65                   0.073077  \n",
       "67                             65                  -0.034615  \n",
       "68                             74                   0.047297  \n",
       "69                             74                   0.020270  \n",
       "70                             74                  -0.020270  \n",
       "71                             74                  -0.047297  \n",
       "72                             72                   0.055556  \n",
       "73                             72                   0.027778  \n",
       "74                             72                  -0.097222  \n",
       "75                             72                   0.013889  "
      ]
     },
     "execution_count": 19,
     "metadata": {},
     "output_type": "execute_result"
    }
   ],
   "source": [
    "death_claims_by_year = pd.pivot_table(death_claims,index=['NOTIFICATION YEAR'],aggfunc={'CLAIM DATE': len}).rename(columns={'CLAIM DATE': 'NUMBER OF ANNUAL DEATH CLAIMS'})\n",
    "death_claims_qy = death_claims_by_q.reset_index(level = ['NOTIFICATION QUARTER'])\n",
    "death_claims_qy['NOTIFICATION YEAR'] = (death_claims_qy['NOTIFICATION QUARTER']).astype(str).str[:4]\n",
    "death_claims_by_year = death_claims_by_year.reset_index(level = ['NOTIFICATION YEAR'])\n",
    "death_claims_by_year['NOTIFICATION YEAR'] = death_claims_by_year['NOTIFICATION YEAR'].astype(str)\n",
    "death_claims_qy = pd.merge(\n",
    "    left=death_claims_qy,\n",
    "    right=death_claims_by_year,   \n",
    "    how='left'\n",
    ")\n",
    "\n",
    "death_claims_qy['CLAIMS SEASONAL VARIATION'] = death_claims_qy['NUMBER OF QUARTERLY DEATH CLAIMS']/death_claims_qy['NUMBER OF ANNUAL DEATH CLAIMS']\n",
    "death_claims_qy['CLAIMS SEASONAL VARIATION'] = death_claims_qy['CLAIMS SEASONAL VARIATION']-0.25\n",
    "death_claims_qy = death_claims_qy[(death_claims_qy['NOTIFICATION YEAR'].astype(int)>2004) & (death_claims_qy['NOTIFICATION YEAR'].astype(int)<2022) ]\n",
    "death_claims_qy.tail(12)"
   ]
  },
  {
   "cell_type": "code",
   "execution_count": 20,
   "id": "4520d1b3",
   "metadata": {},
   "outputs": [
    {
     "name": "stdout",
     "output_type": "stream",
     "text": [
      "<class 'pandas.core.frame.DataFrame'>\n",
      "Int64Index: 68 entries, 8 to 75\n",
      "Data columns (total 5 columns):\n",
      " #   Column                            Non-Null Count  Dtype        \n",
      "---  ------                            --------------  -----        \n",
      " 0   NOTIFICATION QUARTER              68 non-null     period[Q-DEC]\n",
      " 1   NUMBER OF QUARTERLY DEATH CLAIMS  68 non-null     int64        \n",
      " 2   NOTIFICATION YEAR                 68 non-null     object       \n",
      " 3   NUMBER OF ANNUAL DEATH CLAIMS     68 non-null     int64        \n",
      " 4   CLAIMS SEASONAL VARIATION         68 non-null     float64      \n",
      "dtypes: float64(1), int64(2), object(1), period[Q-DEC](1)\n",
      "memory usage: 3.2+ KB\n"
     ]
    }
   ],
   "source": [
    "death_claims_qy.info()"
   ]
  },
  {
   "cell_type": "code",
   "execution_count": 21,
   "id": "9beac64f",
   "metadata": {},
   "outputs": [
    {
     "data": {
      "text/html": [
       "<div>\n",
       "<style scoped>\n",
       "    .dataframe tbody tr th:only-of-type {\n",
       "        vertical-align: middle;\n",
       "    }\n",
       "\n",
       "    .dataframe tbody tr th {\n",
       "        vertical-align: top;\n",
       "    }\n",
       "\n",
       "    .dataframe thead th {\n",
       "        text-align: right;\n",
       "    }\n",
       "</style>\n",
       "<table border=\"1\" class=\"dataframe\">\n",
       "  <thead>\n",
       "    <tr style=\"text-align: right;\">\n",
       "      <th></th>\n",
       "      <th>Q</th>\n",
       "      <th>Average Seasonal Variation - Death Claims</th>\n",
       "    </tr>\n",
       "  </thead>\n",
       "  <tbody>\n",
       "    <tr>\n",
       "      <th>0</th>\n",
       "      <td>Q1</td>\n",
       "      <td>0.024034</td>\n",
       "    </tr>\n",
       "    <tr>\n",
       "      <th>1</th>\n",
       "      <td>Q2</td>\n",
       "      <td>-0.016384</td>\n",
       "    </tr>\n",
       "    <tr>\n",
       "      <th>2</th>\n",
       "      <td>Q3</td>\n",
       "      <td>-0.014277</td>\n",
       "    </tr>\n",
       "    <tr>\n",
       "      <th>3</th>\n",
       "      <td>Q4</td>\n",
       "      <td>0.006627</td>\n",
       "    </tr>\n",
       "  </tbody>\n",
       "</table>\n",
       "</div>"
      ],
      "text/plain": [
       "    Q  Average Seasonal Variation - Death Claims\n",
       "0  Q1                                   0.024034\n",
       "1  Q2                                  -0.016384\n",
       "2  Q3                                  -0.014277\n",
       "3  Q4                                   0.006627"
      ]
     },
     "execution_count": 21,
     "metadata": {},
     "output_type": "execute_result"
    }
   ],
   "source": [
    "death_claims_qy['Q'] = (death_claims_qy['NOTIFICATION QUARTER'].astype(str)).str[-2:]\n",
    "death_claims_q_avg = (death_claims_qy.groupby('Q')['CLAIMS SEASONAL VARIATION'].mean().to_frame()).rename(columns={'CLAIMS SEASONAL VARIATION': 'Average Seasonal Variation - Death Claims'})\n",
    "death_claims_q_avg = death_claims_q_avg.reset_index()\n",
    "death_claims_q_avg"
   ]
  },
  {
   "cell_type": "code",
   "execution_count": 22,
   "id": "509b6185",
   "metadata": {},
   "outputs": [
    {
     "data": {
      "text/plain": [
       "0.016536546198098367"
      ]
     },
     "execution_count": 22,
     "metadata": {},
     "output_type": "execute_result"
    }
   ],
   "source": [
    "sd_death_claims = np.std(death_claims_q_avg['Average Seasonal Variation - Death Claims']) #calculate standard deviation of death claims seasonal variation\n",
    "sd_death_claims"
   ]
  },
  {
   "cell_type": "code",
   "execution_count": 23,
   "id": "c3ffd703",
   "metadata": {},
   "outputs": [
    {
     "name": "stderr",
     "output_type": "stream",
     "text": [
      "C:\\Users\\jloftus\\AppData\\Local\\Temp\\ipykernel_16172\\2729392185.py:9: UserWarning: Matplotlib is currently using module://matplotlib_inline.backend_inline, which is a non-GUI backend, so cannot show the figure.\n",
      "  plt.show()\n"
     ]
    }
   ],
   "source": [
    "plt.rcParams[\"figure.figsize\"] = (16,8)\n",
    "sns.barplot(x = 'Q', y = 'Average Seasonal Variation - Death Claims', data = death_claims_q_avg)\n",
    "plt.xticks(fontsize=14)\n",
    "plt.yticks(fontsize=14)\n",
    "plt.xlabel(\"Calendar Year Quarter\", size = 16)\n",
    "plt.ylabel(\"Average Seasonal Variation\",size = 16)\n",
    "#plt.title('Average Seasonal Variation by Calendar Year Quarter (2005 to 2021) : Death Claims', size = 16, fontweight = \"bold\")\n",
    "plt.legend(fontsize = 14)\n",
    "plt.show()"
   ]
  },
  {
   "cell_type": "markdown",
   "id": "145b2958",
   "metadata": {},
   "source": [
    "### Seasonal Decomposition - Number of Death Claims"
   ]
  },
  {
   "cell_type": "code",
   "execution_count": 24,
   "id": "24cd4a05",
   "metadata": {},
   "outputs": [
    {
     "name": "stdout",
     "output_type": "stream",
     "text": [
      "Seasonal Decomposition: Number of Death Claims (2005 to 2021)\n"
     ]
    },
    {
     "name": "stderr",
     "output_type": "stream",
     "text": [
      "C:\\Users\\jloftus\\AppData\\Local\\Temp\\ipykernel_16172\\2709549648.py:11: UserWarning: Matplotlib is currently using agg, which is a non-GUI backend, so cannot show the figure.\n",
      "  plt.show()\n"
     ]
    }
   ],
   "source": [
    "import matplotlib as mpl\n",
    "mpl.rcParams.update(mpl.rcParamsDefault)\n",
    "\n",
    "series = death_claims_qy.set_index('NOTIFICATION QUARTER')\n",
    "series = series['NUMBER OF QUARTERLY DEATH CLAIMS']\n",
    "series.interpolate(inplace = True)\n",
    "series.index=series.index.to_timestamp()\n",
    "result = seasonal_decompose(series, model='additive',period =12)\n",
    "print(\"Seasonal Decomposition: Number of Death Claims (2005 to 2021)\")\n",
    "result.plot()\n",
    "plt.show()"
   ]
  },
  {
   "cell_type": "markdown",
   "id": "a1b73e01",
   "metadata": {},
   "source": [
    "### Augmented Dickey Fuller Test - Number of Death Claims"
   ]
  },
  {
   "cell_type": "code",
   "execution_count": 25,
   "id": "811f8ed0",
   "metadata": {},
   "outputs": [
    {
     "name": "stdout",
     "output_type": "stream",
     "text": [
      "ADF Statistic (Number of Death Claims notified per quarter): -6.487336\n",
      "p-value (Number of Death Claims notified per quarter): 0.000000\n",
      "Critical Values (Number of Death Claims notified per quarter):\n",
      "\t1%: -3.532\n",
      "\t5%: -2.906\n",
      "\t10%: -2.590\n"
     ]
    }
   ],
   "source": [
    "X = death_claims_qy.set_index('NOTIFICATION QUARTER')\n",
    "X = death_claims_qy['NUMBER OF QUARTERLY DEATH CLAIMS']\n",
    "result = adfuller(X)\n",
    "print('ADF Statistic (Number of Death Claims notified per quarter): %f' % result[0])\n",
    "print('p-value (Number of Death Claims notified per quarter): %f' % result[1])\n",
    "print('Critical Values (Number of Death Claims notified per quarter):')\n",
    "for key, value in result[4].items():\n",
    "\tprint('\\t%s: %.3f' % (key, value))"
   ]
  },
  {
   "cell_type": "markdown",
   "id": "e9f7a6a8",
   "metadata": {},
   "source": [
    "### Augmented Dickey Fuller Test - Death Claim Seasonal Variation"
   ]
  },
  {
   "cell_type": "code",
   "execution_count": 26,
   "id": "47717c62",
   "metadata": {},
   "outputs": [
    {
     "name": "stdout",
     "output_type": "stream",
     "text": [
      "ADF Statistic (Death Claim Quarterly Seasonal Variation): -4.810408\n",
      "p-value (Death Claim Quarterly Seasonal Variation): 0.000052\n",
      "Critical Values (Death Claim Quarterly Seasonal Variation):\n",
      "\t1%: -3.544\n",
      "\t5%: -2.911\n",
      "\t10%: -2.593\n"
     ]
    }
   ],
   "source": [
    "X = death_claims_qy.set_index('NOTIFICATION QUARTER')\n",
    "X = death_claims_qy['CLAIMS SEASONAL VARIATION']\n",
    "result = adfuller(X)\n",
    "print('ADF Statistic (Death Claim Quarterly Seasonal Variation): %f' % result[0])\n",
    "print('p-value (Death Claim Quarterly Seasonal Variation): %f' % result[1])\n",
    "print('Critical Values (Death Claim Quarterly Seasonal Variation):')\n",
    "for key, value in result[4].items():\n",
    "\tprint('\\t%s: %.3f' % (key, value))"
   ]
  },
  {
   "cell_type": "markdown",
   "id": "171d234c",
   "metadata": {},
   "source": [
    "### Autocorrelation Plot - Death Claim Seasonal Variation"
   ]
  },
  {
   "cell_type": "code",
   "execution_count": 27,
   "id": "2b1e46a8",
   "metadata": {},
   "outputs": [
    {
     "data": {
      "text/plain": [
       "<AxesSubplot:xlabel='Lag', ylabel='Autocorrelation'>"
      ]
     },
     "execution_count": 27,
     "metadata": {},
     "output_type": "execute_result"
    }
   ],
   "source": [
    "from pandas.plotting import autocorrelation_plot\n",
    "plt.rcParams.update({'figure.figsize':(9,5), 'figure.dpi':120})\n",
    "autocorrelation_plot(death_claims_qy['CLAIMS SEASONAL VARIATION'].tolist())"
   ]
  },
  {
   "cell_type": "code",
   "execution_count": 28,
   "id": "b9e2e5cf",
   "metadata": {},
   "outputs": [
    {
     "name": "stdout",
     "output_type": "stream",
     "text": [
      "Seasonal Decomposition: Quarterly Death Claim Seasonal Variation (2005 to 2021)\n"
     ]
    },
    {
     "name": "stderr",
     "output_type": "stream",
     "text": [
      "C:\\Users\\jloftus\\AppData\\Local\\Temp\\ipykernel_16172\\2532690095.py:8: UserWarning: Matplotlib is currently using agg, which is a non-GUI backend, so cannot show the figure.\n",
      "  plt.show()\n"
     ]
    }
   ],
   "source": [
    "series = death_claims_qy.set_index('NOTIFICATION QUARTER')\n",
    "series = series['CLAIMS SEASONAL VARIATION']\n",
    "series.interpolate(inplace = True)\n",
    "series.index=series.index.to_timestamp()\n",
    "result = seasonal_decompose(series, model='additive',period =12)\n",
    "print(\"Seasonal Decomposition: Quarterly Death Claim Seasonal Variation (2005 to 2021)\")\n",
    "result.plot()\n",
    "plt.show()"
   ]
  },
  {
   "cell_type": "markdown",
   "id": "7b4806af",
   "metadata": {},
   "source": [
    "## Export Cleaned Death Claims Dataset for Modelling"
   ]
  },
  {
   "cell_type": "markdown",
   "id": "36fbb6f2",
   "metadata": {},
   "source": [
    "### Death Claims Dataset including Covid-19 Claims"
   ]
  },
  {
   "cell_type": "code",
   "execution_count": 29,
   "id": "4680c21b",
   "metadata": {},
   "outputs": [],
   "source": [
    "#write csv file\n",
    "death_claims_output = death_claims_qy.drop(columns =['NUMBER OF QUARTERLY DEATH CLAIMS', 'NOTIFICATION YEAR','NUMBER OF ANNUAL DEATH CLAIMS'] )\n",
    "death_claims_output.to_csv(\"Death Claim Seasonality.csv\", index=False)"
   ]
  },
  {
   "cell_type": "code",
   "execution_count": 30,
   "id": "df86a7fa",
   "metadata": {},
   "outputs": [
    {
     "name": "stdout",
     "output_type": "stream",
     "text": [
      "<class 'pandas.core.frame.DataFrame'>\n",
      "Int64Index: 68 entries, 8 to 75\n",
      "Data columns (total 3 columns):\n",
      " #   Column                     Non-Null Count  Dtype        \n",
      "---  ------                     --------------  -----        \n",
      " 0   NOTIFICATION QUARTER       68 non-null     period[Q-DEC]\n",
      " 1   CLAIMS SEASONAL VARIATION  68 non-null     float64      \n",
      " 2   Q                          68 non-null     object       \n",
      "dtypes: float64(1), object(1), period[Q-DEC](1)\n",
      "memory usage: 2.1+ KB\n"
     ]
    }
   ],
   "source": [
    "death_claims_output.info()"
   ]
  },
  {
   "cell_type": "code",
   "execution_count": 31,
   "id": "861ac183",
   "metadata": {},
   "outputs": [
    {
     "data": {
      "text/plain": [
       "<AxesSubplot:>"
      ]
     },
     "execution_count": 31,
     "metadata": {},
     "output_type": "execute_result"
    }
   ],
   "source": [
    "death_claims_output.plot()"
   ]
  },
  {
   "cell_type": "markdown",
   "id": "a0de1ff0",
   "metadata": {},
   "source": [
    "### Death Claims Dataset excluding Covid-19 Claims"
   ]
  },
  {
   "cell_type": "code",
   "execution_count": 32,
   "id": "9dff7938",
   "metadata": {},
   "outputs": [
    {
     "data": {
      "text/plain": [
       "['Suicide',\n",
       " 'Heart Attack',\n",
       " 'pancreatic cancer',\n",
       " 'Other Death Reason',\n",
       " 'Colon',\n",
       " 'Lung',\n",
       " 'aortic dissection',\n",
       " 'Breast Cancer',\n",
       " 'Ischaemic cardiomyopathy',\n",
       " 'Major Organ',\n",
       " 'Stroke',\n",
       " \"Alzheimer's Disease (Pre-senile Dementia)\",\n",
       " 'Bilateral Bronchopneumoni',\n",
       " 'Motor Neurone Disease',\n",
       " 'Road Traffic Accident',\n",
       " 'Broncho-pneumonia',\n",
       " 'Brain and other cancers',\n",
       " 'Brain Haemorrhage',\n",
       " 'Covid 19',\n",
       " 'Ovarian /Uterine',\n",
       " 'Septicaemia',\n",
       " 'cardiomyopathy',\n",
       " 'Kidney Failure',\n",
       " 'Myocardial Degeneration',\n",
       " 'Cardiac Arrhythmia',\n",
       " 'Pancreatic Cancer',\n",
       " 'Leukaemias',\n",
       " 'Pneumonia/Dementia',\n",
       " 'Hepatic Encephalopathy',\n",
       " \"Parkinson's Disease\",\n",
       " 'Lymphomas',\n",
       " 'Skin',\n",
       " 'septicaemia',\n",
       " 'End Stage Dementia',\n",
       " 'Oesphagal Cancer',\n",
       " 'Bilateral Pneumonia',\n",
       " 'Cirrhosis',\n",
       " 'IHD',\n",
       " 'Respiratory Failure',\n",
       " 'Cholangiocarcinoma',\n",
       " 'Haemorrhage',\n",
       " 'Injuries fallowing a fall',\n",
       " 'Other Illnesses',\n",
       " 'Oesophageal Cancer',\n",
       " 'Prostate',\n",
       " 'ischaemic Heart Disease',\n",
       " 'Blood Poisoning',\n",
       " 'Brain Aneurysm',\n",
       " 'Fell and Fractured skull',\n",
       " 'haemorrhage due to fall',\n",
       " 'Cancer',\n",
       " 'Liver Cirrosis',\n",
       " 'peripheral vascular disea',\n",
       " 'multi organ failure',\n",
       " 'pneumonia',\n",
       " 'Pseudomyxoma Pertonei',\n",
       " 'Renal cancer',\n",
       " 'Multiple Sclerosis',\n",
       " 'Drowning Accident',\n",
       " 'Gastro Intestinal/Stomach',\n",
       " 'Chronic Lung Disease (including Emphysema)',\n",
       " 'ovarian cancer',\n",
       " 'Heart Disease',\n",
       " 'Bilary cirrhosis',\n",
       " 'Leiomyosarcoma',\n",
       " 'Adenocarcinoma',\n",
       " 'mesothelioma of the pleur',\n",
       " 'Acute bronchopneumonia',\n",
       " 'Myocarial Ischaemia',\n",
       " 'bilateral lobar pneumonia',\n",
       " 'MI',\n",
       " 'Chronic Obs Lung Disease',\n",
       " 'Acute Alcohol intoxicatio',\n",
       " 'Cardio Resp Arrest',\n",
       " 'Dementia',\n",
       " 'COAD',\n",
       " 'Cardio Pulmonary arrest',\n",
       " 'Ventricular failure',\n",
       " 'subdural haemorrhage',\n",
       " 'Embolism',\n",
       " 'Aortic Aneurysm',\n",
       " 'intracerbral bleed',\n",
       " 'Covid Pneumonia',\n",
       " 'Renal Cancer',\n",
       " 'Sarcomatoid Carcinoma',\n",
       " 'Supra Nuclear Palsy',\n",
       " 'Degenerative brain diseas',\n",
       " 'cholangiocarcinoma',\n",
       " 'Cortico Basilar Degenerat',\n",
       " 'Cardiac Failure',\n",
       " 'aortic aneurism',\n",
       " 'Pulmonary fibrosis',\n",
       " 'Pneumonia',\n",
       " 'CJD',\n",
       " 'Gall Bladder Cancer',\n",
       " 'Renal Cell Cancer',\n",
       " 'Unknown Mets Cancer',\n",
       " 'Bronchopneumonia',\n",
       " 'Heart failure',\n",
       " 'Overdose/Aspiration Pnuem',\n",
       " 'Pulmonary Fibrosis',\n",
       " 'Laryngeal Carcinoma',\n",
       " 'myocardial ischaemia',\n",
       " 'liver failure',\n",
       " 'oesophageal cancer',\n",
       " 'adenocarcinoma',\n",
       " 'Sepsis',\n",
       " 'Neuroendocrine tumour',\n",
       " 'Cancer Claim',\n",
       " 'Septicaemia & Liver Cirrh',\n",
       " 'oesophagal cancer',\n",
       " 'Endometrial cancer',\n",
       " 'Cardiac Arrythmia',\n",
       " 'alcoholic hepatitis',\n",
       " 'Colon cancer',\n",
       " 'Myelodysplastic Syndrome',\n",
       " 'Oesophageal SCC',\n",
       " 'Cardio Resp Failure',\n",
       " 'Sub Arachnoid Haemorrhage',\n",
       " 'multiorgan failure',\n",
       " 'aspiration pneumonia',\n",
       " 'Jejunal Adenocarcinoma',\n",
       " 'Ischaemic Heart Disease',\n",
       " 'Mouth/Oral Cavity',\n",
       " 'cancer of Liver',\n",
       " 'Melanoma to lungs',\n",
       " 'Intrahepatic Cholangiocar',\n",
       " 'Skin Cancer',\n",
       " 'Myocardial Infarction',\n",
       " 'Mesenteric Ischaemia',\n",
       " 'Laryngeal SCC',\n",
       " 'CNS Lymphoma',\n",
       " 'copd',\n",
       " 'Mouth Cancer',\n",
       " ' bronchopneumonia',\n",
       " 'Bronchopnuemonia',\n",
       " 'intestinal bleeding ulcer',\n",
       " 'Copper & Drug toxicity',\n",
       " 'Pancreatic cancer',\n",
       " 'retroperitoneal Haemorrha',\n",
       " 'Benign Brain Tumour',\n",
       " 'atherio CAD/hypertrophy',\n",
       " 'Bladder cancer',\n",
       " 'motor neurone disease',\n",
       " 'supraglottic cancer',\n",
       " 'Mets Squamous Cell Carcin',\n",
       " 'Liver failure',\n",
       " 'Heart Failure/COPD',\n",
       " 'Congestive Cardiac Failur',\n",
       " 'Pulmonary Disease',\n",
       " 'cardiac tamponade',\n",
       " 'Cardiac Arrhyhmia',\n",
       " 'Hit by a train',\n",
       " 'SCC of Larynx',\n",
       " 'gun shot wound',\n",
       " 'Testicular',\n",
       " 'breast cancer',\n",
       " 'Haemorrhage-farm accident',\n",
       " 'Multiple Myeloma',\n",
       " 'Severe Cerebral Atrophy',\n",
       " 'Bladder Cancer',\n",
       " 'cardiac arrhythmia',\n",
       " 'Haemaneiopericytoma',\n",
       " 'Interstital pneumonia',\n",
       " 'Head Injury',\n",
       " 'Acute Coronary Insuffienc',\n",
       " 'Rectal cancer',\n",
       " 'Oesophageal cancer',\n",
       " 'Cardiac Tamponade',\n",
       " 'Peritoneal Round cell tum',\n",
       " 'RTA',\n",
       " 'tumour',\n",
       " 'Chronic Liver Disease',\n",
       " 'Other Injuries',\n",
       " 'Crush Injury',\n",
       " 'Sudden Cardiac Death',\n",
       " 'Lung Cancer',\n",
       " 'crush injury',\n",
       " 'Ischaemic Heart',\n",
       " 'liver cancer',\n",
       " 'bronchopneumonia',\n",
       " 'Cardiomyopathy',\n",
       " 'Metastic Neuroendcrine Tu',\n",
       " 'Squamous Cell cancer of n',\n",
       " 'sigmoid adenocarcinoma',\n",
       " 'Thyroid Cancer',\n",
       " 'neuroendocrine cancer',\n",
       " ' Closed Fracture Of Skull',\n",
       " 'cancer of the gall bladde',\n",
       " 'Pneumonia/Sepsis',\n",
       " 'Major Head Trauma',\n",
       " 'Accidental Death',\n",
       " 'skull fracture',\n",
       " 'Multiorgan Failure - Seps',\n",
       " 'covid 19',\n",
       " 'Renal failure',\n",
       " 'Nerve Sheath Tumour',\n",
       " 'Pnuemonia',\n",
       " 'Drowning',\n",
       " 'Crush injury',\n",
       " 'lung Cancer',\n",
       " 'carbon monoxide posioning',\n",
       " 'IHD & COPD',\n",
       " 'Sudden Adult Cardiac Deat',\n",
       " 'Cancer of the vulva',\n",
       " 'Renal Carcinoma',\n",
       " 'Fracture of skull',\n",
       " 'Bone Cancer',\n",
       " 'Hydrogen Sulphide Toxicit',\n",
       " 'Asphyxiation',\n",
       " 'Neuroendocrine tumour met',\n",
       " 'Oro- Pharyngeal Cancer',\n",
       " 'CVA',\n",
       " 'Congestive cardiac failur',\n",
       " 'sepsis',\n",
       " 'cancer',\n",
       " 'suspension by ligature',\n",
       " 'Scleroderma',\n",
       " 'Decompensated liver disea',\n",
       " 'Mrsa/Covid',\n",
       " 'osteochondrosarcoma',\n",
       " 'Cardiac arrthymia',\n",
       " 'Sarcoma',\n",
       " 'asphyxia',\n",
       " 'Ischaemic heart disease',\n",
       " 'Penile Cancer',\n",
       " 'Pancraetic Cancer',\n",
       " 'Cardiac Death - Arrhythmi',\n",
       " 'multiple myeloma']"
      ]
     },
     "execution_count": 32,
     "metadata": {},
     "output_type": "execute_result"
    }
   ],
   "source": [
    "death_reason = list(death_claims['CLAIM REASON'].unique())\n",
    "death_reason"
   ]
  },
  {
   "cell_type": "code",
   "execution_count": 33,
   "id": "a574097d",
   "metadata": {},
   "outputs": [
    {
     "data": {
      "text/plain": [
       "(0, 8)"
      ]
     },
     "execution_count": 33,
     "metadata": {},
     "output_type": "execute_result"
    }
   ],
   "source": [
    "covid_death_claims = death_claims[(death_claims['CLAIM REASON'] == 'Covid 19') & (death_claims['CLAIM REASON'] == 'Covid Pneumonia') & (death_claims['CLAIM REASON'] == 'covid 19') & (death_claims['CLAIM REASON'] == 'Mrsa/Covid')  ]\n",
    "covid_death_claims.shape"
   ]
  },
  {
   "cell_type": "code",
   "execution_count": 34,
   "id": "24aa05fe",
   "metadata": {},
   "outputs": [
    {
     "data": {
      "text/plain": [
       "(987, 8)"
      ]
     },
     "execution_count": 34,
     "metadata": {},
     "output_type": "execute_result"
    }
   ],
   "source": [
    "death_claims_ex_covid = death_claims[(death_claims['CLAIM REASON'] != 'Covid 19') & (death_claims['CLAIM REASON'] != 'Covid Pneumonia') & (death_claims['CLAIM REASON'] != 'covid 19') & (death_claims['CLAIM REASON'] != 'Mrsa/Covid')  ]\n",
    "death_claims_ex_covid.shape"
   ]
  },
  {
   "cell_type": "code",
   "execution_count": 35,
   "id": "0789164b",
   "metadata": {},
   "outputs": [
    {
     "data": {
      "text/html": [
       "<div>\n",
       "<style scoped>\n",
       "    .dataframe tbody tr th:only-of-type {\n",
       "        vertical-align: middle;\n",
       "    }\n",
       "\n",
       "    .dataframe tbody tr th {\n",
       "        vertical-align: top;\n",
       "    }\n",
       "\n",
       "    .dataframe thead th {\n",
       "        text-align: right;\n",
       "    }\n",
       "</style>\n",
       "<table border=\"1\" class=\"dataframe\">\n",
       "  <thead>\n",
       "    <tr style=\"text-align: right;\">\n",
       "      <th></th>\n",
       "      <th>NOTIFICATION QUARTER</th>\n",
       "      <th>NUMBER OF QUARTERLY DEATH CLAIMS</th>\n",
       "      <th>NOTIFICATION YEAR</th>\n",
       "      <th>NUMBER OF ANNUAL DEATH CLAIMS</th>\n",
       "      <th>CLAIMS SEASONAL VARIATION</th>\n",
       "    </tr>\n",
       "  </thead>\n",
       "  <tbody>\n",
       "    <tr>\n",
       "      <th>64</th>\n",
       "      <td>2019Q1</td>\n",
       "      <td>18</td>\n",
       "      <td>2019</td>\n",
       "      <td>65</td>\n",
       "      <td>0.026923</td>\n",
       "    </tr>\n",
       "    <tr>\n",
       "      <th>65</th>\n",
       "      <td>2019Q2</td>\n",
       "      <td>12</td>\n",
       "      <td>2019</td>\n",
       "      <td>65</td>\n",
       "      <td>-0.065385</td>\n",
       "    </tr>\n",
       "    <tr>\n",
       "      <th>66</th>\n",
       "      <td>2019Q3</td>\n",
       "      <td>21</td>\n",
       "      <td>2019</td>\n",
       "      <td>65</td>\n",
       "      <td>0.073077</td>\n",
       "    </tr>\n",
       "    <tr>\n",
       "      <th>67</th>\n",
       "      <td>2019Q4</td>\n",
       "      <td>14</td>\n",
       "      <td>2019</td>\n",
       "      <td>65</td>\n",
       "      <td>-0.034615</td>\n",
       "    </tr>\n",
       "    <tr>\n",
       "      <th>68</th>\n",
       "      <td>2020Q1</td>\n",
       "      <td>22</td>\n",
       "      <td>2020</td>\n",
       "      <td>72</td>\n",
       "      <td>0.055556</td>\n",
       "    </tr>\n",
       "    <tr>\n",
       "      <th>69</th>\n",
       "      <td>2020Q2</td>\n",
       "      <td>18</td>\n",
       "      <td>2020</td>\n",
       "      <td>72</td>\n",
       "      <td>0.000000</td>\n",
       "    </tr>\n",
       "    <tr>\n",
       "      <th>70</th>\n",
       "      <td>2020Q3</td>\n",
       "      <td>17</td>\n",
       "      <td>2020</td>\n",
       "      <td>72</td>\n",
       "      <td>-0.013889</td>\n",
       "    </tr>\n",
       "    <tr>\n",
       "      <th>71</th>\n",
       "      <td>2020Q4</td>\n",
       "      <td>15</td>\n",
       "      <td>2020</td>\n",
       "      <td>72</td>\n",
       "      <td>-0.041667</td>\n",
       "    </tr>\n",
       "    <tr>\n",
       "      <th>72</th>\n",
       "      <td>2021Q1</td>\n",
       "      <td>21</td>\n",
       "      <td>2021</td>\n",
       "      <td>69</td>\n",
       "      <td>0.054348</td>\n",
       "    </tr>\n",
       "    <tr>\n",
       "      <th>73</th>\n",
       "      <td>2021Q2</td>\n",
       "      <td>19</td>\n",
       "      <td>2021</td>\n",
       "      <td>69</td>\n",
       "      <td>0.025362</td>\n",
       "    </tr>\n",
       "    <tr>\n",
       "      <th>74</th>\n",
       "      <td>2021Q3</td>\n",
       "      <td>11</td>\n",
       "      <td>2021</td>\n",
       "      <td>69</td>\n",
       "      <td>-0.090580</td>\n",
       "    </tr>\n",
       "    <tr>\n",
       "      <th>75</th>\n",
       "      <td>2021Q4</td>\n",
       "      <td>18</td>\n",
       "      <td>2021</td>\n",
       "      <td>69</td>\n",
       "      <td>0.010870</td>\n",
       "    </tr>\n",
       "  </tbody>\n",
       "</table>\n",
       "</div>"
      ],
      "text/plain": [
       "   NOTIFICATION QUARTER  NUMBER OF QUARTERLY DEATH CLAIMS NOTIFICATION YEAR  \\\n",
       "64               2019Q1                                18              2019   \n",
       "65               2019Q2                                12              2019   \n",
       "66               2019Q3                                21              2019   \n",
       "67               2019Q4                                14              2019   \n",
       "68               2020Q1                                22              2020   \n",
       "69               2020Q2                                18              2020   \n",
       "70               2020Q3                                17              2020   \n",
       "71               2020Q4                                15              2020   \n",
       "72               2021Q1                                21              2021   \n",
       "73               2021Q2                                19              2021   \n",
       "74               2021Q3                                11              2021   \n",
       "75               2021Q4                                18              2021   \n",
       "\n",
       "    NUMBER OF ANNUAL DEATH CLAIMS  CLAIMS SEASONAL VARIATION  \n",
       "64                             65                   0.026923  \n",
       "65                             65                  -0.065385  \n",
       "66                             65                   0.073077  \n",
       "67                             65                  -0.034615  \n",
       "68                             72                   0.055556  \n",
       "69                             72                   0.000000  \n",
       "70                             72                  -0.013889  \n",
       "71                             72                  -0.041667  \n",
       "72                             69                   0.054348  \n",
       "73                             69                   0.025362  \n",
       "74                             69                  -0.090580  \n",
       "75                             69                   0.010870  "
      ]
     },
     "execution_count": 35,
     "metadata": {},
     "output_type": "execute_result"
    }
   ],
   "source": [
    "death_claims_by_q = pd.pivot_table(death_claims_ex_covid,index=['NOTIFICATION QUARTER'],aggfunc={'CLAIM DATE': len}).rename(columns={'CLAIM DATE': 'NUMBER OF QUARTERLY DEATH CLAIMS'})\n",
    "death_claims_by_year = pd.pivot_table(death_claims_ex_covid,index=['NOTIFICATION YEAR'],aggfunc={'CLAIM DATE': len}).rename(columns={'CLAIM DATE': 'NUMBER OF ANNUAL DEATH CLAIMS'})\n",
    "death_claims_qy = death_claims_by_q.reset_index(level = ['NOTIFICATION QUARTER'])\n",
    "death_claims_qy['NOTIFICATION YEAR'] = (death_claims_qy['NOTIFICATION QUARTER']).astype(str).str[:4]\n",
    "death_claims_by_year = death_claims_by_year.reset_index(level = ['NOTIFICATION YEAR'])\n",
    "death_claims_by_year['NOTIFICATION YEAR'] = death_claims_by_year['NOTIFICATION YEAR'].astype(str)\n",
    "death_claims_qy = pd.merge(\n",
    "    left=death_claims_qy,\n",
    "    right=death_claims_by_year,   \n",
    "    how='left'\n",
    ")\n",
    "\n",
    "death_claims_qy['CLAIMS SEASONAL VARIATION'] = death_claims_qy['NUMBER OF QUARTERLY DEATH CLAIMS']/death_claims_qy['NUMBER OF ANNUAL DEATH CLAIMS']\n",
    "death_claims_qy['CLAIMS SEASONAL VARIATION'] = death_claims_qy['CLAIMS SEASONAL VARIATION']-0.25\n",
    "death_claims_qy = death_claims_qy[(death_claims_qy['NOTIFICATION YEAR'].astype(int)>2004) & (death_claims_qy['NOTIFICATION YEAR'].astype(int)<2022) ]\n",
    "death_claims_qy.tail(12)"
   ]
  },
  {
   "cell_type": "code",
   "execution_count": 36,
   "id": "d924417c",
   "metadata": {},
   "outputs": [],
   "source": [
    "#write csv file\n",
    "death_claims_output_ex_covid = death_claims_qy.drop(columns =['NUMBER OF QUARTERLY DEATH CLAIMS', 'NOTIFICATION YEAR','NUMBER OF ANNUAL DEATH CLAIMS'] )\n",
    "death_claims_output_ex_covid.to_csv(\"Death Claim Seasonality - ex Covid Claims.csv\", index=False)"
   ]
  },
  {
   "cell_type": "code",
   "execution_count": 37,
   "id": "7100a512",
   "metadata": {},
   "outputs": [
    {
     "name": "stdout",
     "output_type": "stream",
     "text": [
      "<class 'pandas.core.frame.DataFrame'>\n",
      "Int64Index: 68 entries, 8 to 75\n",
      "Data columns (total 2 columns):\n",
      " #   Column                     Non-Null Count  Dtype        \n",
      "---  ------                     --------------  -----        \n",
      " 0   NOTIFICATION QUARTER       68 non-null     period[Q-DEC]\n",
      " 1   CLAIMS SEASONAL VARIATION  68 non-null     float64      \n",
      "dtypes: float64(1), period[Q-DEC](1)\n",
      "memory usage: 1.6 KB\n"
     ]
    }
   ],
   "source": [
    "death_claims_output_ex_covid.info()"
   ]
  },
  {
   "cell_type": "markdown",
   "id": "cd2e4119",
   "metadata": {},
   "source": [
    "## Raw CSO Data - EDA"
   ]
  },
  {
   "cell_type": "code",
   "execution_count": 154,
   "id": "4844b8ad",
   "metadata": {},
   "outputs": [
    {
     "data": {
      "text/html": [
       "<div>\n",
       "<style scoped>\n",
       "    .dataframe tbody tr th:only-of-type {\n",
       "        vertical-align: middle;\n",
       "    }\n",
       "\n",
       "    .dataframe tbody tr th {\n",
       "        vertical-align: top;\n",
       "    }\n",
       "\n",
       "    .dataframe thead th {\n",
       "        text-align: right;\n",
       "    }\n",
       "</style>\n",
       "<table border=\"1\" class=\"dataframe\">\n",
       "  <thead>\n",
       "    <tr style=\"text-align: right;\">\n",
       "      <th></th>\n",
       "      <th>STATISTIC</th>\n",
       "      <th>Quarter</th>\n",
       "      <th>Age at Death</th>\n",
       "      <th>UNIT</th>\n",
       "      <th>VALUE</th>\n",
       "    </tr>\n",
       "  </thead>\n",
       "  <tbody>\n",
       "    <tr>\n",
       "      <th>3705</th>\n",
       "      <td>Deaths Registered Provisional</td>\n",
       "      <td>2021Q4</td>\n",
       "      <td>Under 1 Year</td>\n",
       "      <td>Number</td>\n",
       "      <td>62.0</td>\n",
       "    </tr>\n",
       "    <tr>\n",
       "      <th>3706</th>\n",
       "      <td>Deaths Registered Provisional</td>\n",
       "      <td>2021Q4</td>\n",
       "      <td>4 Weeks to 1 Year</td>\n",
       "      <td>Number</td>\n",
       "      <td>16.0</td>\n",
       "    </tr>\n",
       "    <tr>\n",
       "      <th>3707</th>\n",
       "      <td>Deaths Registered Provisional</td>\n",
       "      <td>2021Q4</td>\n",
       "      <td>1 Week to 4 Weeks</td>\n",
       "      <td>Number</td>\n",
       "      <td>11.0</td>\n",
       "    </tr>\n",
       "    <tr>\n",
       "      <th>3708</th>\n",
       "      <td>Deaths Registered Provisional</td>\n",
       "      <td>2021Q4</td>\n",
       "      <td>Under 7 Days</td>\n",
       "      <td>Number</td>\n",
       "      <td>35.0</td>\n",
       "    </tr>\n",
       "    <tr>\n",
       "      <th>3709</th>\n",
       "      <td>Deaths Registered Provisional</td>\n",
       "      <td>2021Q4</td>\n",
       "      <td>1 to 7 Days</td>\n",
       "      <td>Number</td>\n",
       "      <td>18.0</td>\n",
       "    </tr>\n",
       "    <tr>\n",
       "      <th>3710</th>\n",
       "      <td>Deaths Registered Provisional</td>\n",
       "      <td>2021Q4</td>\n",
       "      <td>Under 1 Day</td>\n",
       "      <td>Number</td>\n",
       "      <td>17.0</td>\n",
       "    </tr>\n",
       "    <tr>\n",
       "      <th>3711</th>\n",
       "      <td>Deaths Registered Provisional</td>\n",
       "      <td>2021Q4</td>\n",
       "      <td>1 to 4 Years</td>\n",
       "      <td>Number</td>\n",
       "      <td>1.0</td>\n",
       "    </tr>\n",
       "    <tr>\n",
       "      <th>3712</th>\n",
       "      <td>Deaths Registered Provisional</td>\n",
       "      <td>2021Q4</td>\n",
       "      <td>5 to 14 Years</td>\n",
       "      <td>Number</td>\n",
       "      <td>10.0</td>\n",
       "    </tr>\n",
       "    <tr>\n",
       "      <th>3713</th>\n",
       "      <td>Deaths Registered Provisional</td>\n",
       "      <td>2021Q4</td>\n",
       "      <td>15 to 24 Years</td>\n",
       "      <td>Number</td>\n",
       "      <td>52.0</td>\n",
       "    </tr>\n",
       "    <tr>\n",
       "      <th>3714</th>\n",
       "      <td>Deaths Registered Provisional</td>\n",
       "      <td>2021Q4</td>\n",
       "      <td>25 to 34 Years</td>\n",
       "      <td>Number</td>\n",
       "      <td>78.0</td>\n",
       "    </tr>\n",
       "    <tr>\n",
       "      <th>3715</th>\n",
       "      <td>Deaths Registered Provisional</td>\n",
       "      <td>2021Q4</td>\n",
       "      <td>35 to 44 Years</td>\n",
       "      <td>Number</td>\n",
       "      <td>192.0</td>\n",
       "    </tr>\n",
       "    <tr>\n",
       "      <th>3716</th>\n",
       "      <td>Deaths Registered Provisional</td>\n",
       "      <td>2021Q4</td>\n",
       "      <td>45 to 54 Years</td>\n",
       "      <td>Number</td>\n",
       "      <td>428.0</td>\n",
       "    </tr>\n",
       "    <tr>\n",
       "      <th>3717</th>\n",
       "      <td>Deaths Registered Provisional</td>\n",
       "      <td>2021Q4</td>\n",
       "      <td>55 to 64 Years</td>\n",
       "      <td>Number</td>\n",
       "      <td>811.0</td>\n",
       "    </tr>\n",
       "    <tr>\n",
       "      <th>3718</th>\n",
       "      <td>Deaths Registered Provisional</td>\n",
       "      <td>2021Q4</td>\n",
       "      <td>65 to 74 Years</td>\n",
       "      <td>Number</td>\n",
       "      <td>1518.0</td>\n",
       "    </tr>\n",
       "    <tr>\n",
       "      <th>3719</th>\n",
       "      <td>Deaths Registered Provisional</td>\n",
       "      <td>2021Q4</td>\n",
       "      <td>75 Years and Over</td>\n",
       "      <td>Number</td>\n",
       "      <td>5474.0</td>\n",
       "    </tr>\n",
       "  </tbody>\n",
       "</table>\n",
       "</div>"
      ],
      "text/plain": [
       "                          STATISTIC Quarter       Age at Death    UNIT   VALUE\n",
       "3705  Deaths Registered Provisional  2021Q4       Under 1 Year  Number    62.0\n",
       "3706  Deaths Registered Provisional  2021Q4  4 Weeks to 1 Year  Number    16.0\n",
       "3707  Deaths Registered Provisional  2021Q4  1 Week to 4 Weeks  Number    11.0\n",
       "3708  Deaths Registered Provisional  2021Q4       Under 7 Days  Number    35.0\n",
       "3709  Deaths Registered Provisional  2021Q4        1 to 7 Days  Number    18.0\n",
       "3710  Deaths Registered Provisional  2021Q4        Under 1 Day  Number    17.0\n",
       "3711  Deaths Registered Provisional  2021Q4       1 to 4 Years  Number     1.0\n",
       "3712  Deaths Registered Provisional  2021Q4      5 to 14 Years  Number    10.0\n",
       "3713  Deaths Registered Provisional  2021Q4     15 to 24 Years  Number    52.0\n",
       "3714  Deaths Registered Provisional  2021Q4     25 to 34 Years  Number    78.0\n",
       "3715  Deaths Registered Provisional  2021Q4     35 to 44 Years  Number   192.0\n",
       "3716  Deaths Registered Provisional  2021Q4     45 to 54 Years  Number   428.0\n",
       "3717  Deaths Registered Provisional  2021Q4     55 to 64 Years  Number   811.0\n",
       "3718  Deaths Registered Provisional  2021Q4     65 to 74 Years  Number  1518.0\n",
       "3719  Deaths Registered Provisional  2021Q4  75 Years and Over  Number  5474.0"
      ]
     },
     "execution_count": 154,
     "metadata": {},
     "output_type": "execute_result"
    }
   ],
   "source": [
    "df = pd.read_csv('VSAQ2.20220608T130600.csv') # read raw cso deaths data\n",
    "df.tail(15)\n"
   ]
  },
  {
   "cell_type": "code",
   "execution_count": 155,
   "id": "2097fc38",
   "metadata": {},
   "outputs": [
    {
     "name": "stdout",
     "output_type": "stream",
     "text": [
      "<class 'pandas.core.frame.DataFrame'>\n",
      "RangeIndex: 3720 entries, 0 to 3719\n",
      "Data columns (total 5 columns):\n",
      " #   Column        Non-Null Count  Dtype  \n",
      "---  ------        --------------  -----  \n",
      " 0   STATISTIC     3720 non-null   object \n",
      " 1   Quarter       3720 non-null   object \n",
      " 2   Age at Death  3720 non-null   object \n",
      " 3   UNIT          3720 non-null   object \n",
      " 4   VALUE         3248 non-null   float64\n",
      "dtypes: float64(1), object(4)\n",
      "memory usage: 145.4+ KB\n"
     ]
    }
   ],
   "source": [
    "df.info()"
   ]
  },
  {
   "cell_type": "code",
   "execution_count": 156,
   "id": "ed853982",
   "metadata": {},
   "outputs": [
    {
     "data": {
      "application/vnd.jupyter.widget-view+json": {
       "model_id": "10615403008c46d78b56f59d8ffe9646",
       "version_major": 2,
       "version_minor": 0
      },
      "text/plain": [
       "Summarize dataset:   0%|          | 0/5 [00:00<?, ?it/s]"
      ]
     },
     "metadata": {},
     "output_type": "display_data"
    },
    {
     "data": {
      "application/vnd.jupyter.widget-view+json": {
       "model_id": "2f46d9131b654464b8d9c5d83864dc3b",
       "version_major": 2,
       "version_minor": 0
      },
      "text/plain": [
       "Generate report structure:   0%|          | 0/1 [00:00<?, ?it/s]"
      ]
     },
     "metadata": {},
     "output_type": "display_data"
    },
    {
     "data": {
      "application/vnd.jupyter.widget-view+json": {
       "model_id": "491b0e3bbc004ad795530d45ce09c714",
       "version_major": 2,
       "version_minor": 0
      },
      "text/plain": [
       "Render HTML:   0%|          | 0/1 [00:00<?, ?it/s]"
      ]
     },
     "metadata": {},
     "output_type": "display_data"
    },
    {
     "data": {
      "application/vnd.jupyter.widget-view+json": {
       "model_id": "01b5afd5fff54390a0d2807b49ceaba2",
       "version_major": 2,
       "version_minor": 0
      },
      "text/plain": [
       "Export report to file:   0%|          | 0/1 [00:00<?, ?it/s]"
      ]
     },
     "metadata": {},
     "output_type": "display_data"
    }
   ],
   "source": [
    "from pandas_profiling import ProfileReport\n",
    "prof = ProfileReport(df)\n",
    "prof.to_file(output_file='Profile Output - Raw CSO Deaths Data.html')"
   ]
  },
  {
   "cell_type": "markdown",
   "id": "87a86adb",
   "metadata": {},
   "source": [
    "### Drop N/As"
   ]
  },
  {
   "cell_type": "code",
   "execution_count": 157,
   "id": "61e87290",
   "metadata": {},
   "outputs": [],
   "source": [
    "df = df.dropna()"
   ]
  },
  {
   "cell_type": "code",
   "execution_count": 158,
   "id": "84547104",
   "metadata": {},
   "outputs": [
    {
     "name": "stdout",
     "output_type": "stream",
     "text": [
      "<class 'pandas.core.frame.DataFrame'>\n",
      "Int64Index: 3248 entries, 0 to 3719\n",
      "Data columns (total 5 columns):\n",
      " #   Column        Non-Null Count  Dtype  \n",
      "---  ------        --------------  -----  \n",
      " 0   STATISTIC     3248 non-null   object \n",
      " 1   Quarter       3248 non-null   object \n",
      " 2   Age at Death  3248 non-null   object \n",
      " 3   UNIT          3248 non-null   object \n",
      " 4   VALUE         3248 non-null   float64\n",
      "dtypes: float64(1), object(4)\n",
      "memory usage: 152.2+ KB\n"
     ]
    }
   ],
   "source": [
    "df.info()"
   ]
  },
  {
   "cell_type": "code",
   "execution_count": 159,
   "id": "a21279be",
   "metadata": {},
   "outputs": [
    {
     "data": {
      "text/plain": [
       "array(['Under 1 Year', '1 to 4 Years', '5 to 14 Years', '15 to 24 Years',\n",
       "       '25 to 34 Years', '35 to 44 Years', '45 to 54 Years',\n",
       "       '55 to 64 Years', '65 to 74 Years', '75 Years and Over',\n",
       "       '4 Weeks to 1 Year', '1 Week to 4 Weeks', 'Under 7 Days',\n",
       "       '1 to 7 Days', 'Under 1 Day'], dtype=object)"
      ]
     },
     "execution_count": 159,
     "metadata": {},
     "output_type": "execute_result"
    }
   ],
   "source": [
    "df['Age at Death'].unique()"
   ]
  },
  {
   "cell_type": "markdown",
   "id": "01714ecb",
   "metadata": {},
   "source": [
    "## Feature Engineering & Feature Selection"
   ]
  },
  {
   "cell_type": "code",
   "execution_count": 160,
   "id": "0d6bf44c",
   "metadata": {},
   "outputs": [
    {
     "name": "stdout",
     "output_type": "stream",
     "text": [
      "<class 'pandas.core.frame.DataFrame'>\n",
      "Int64Index: 3248 entries, 0 to 3719\n",
      "Data columns (total 5 columns):\n",
      " #   Column        Non-Null Count  Dtype         \n",
      "---  ------        --------------  -----         \n",
      " 0   STATISTIC     3248 non-null   object        \n",
      " 1   Quarter       3248 non-null   datetime64[ns]\n",
      " 2   Age at Death  3248 non-null   object        \n",
      " 3   UNIT          3248 non-null   object        \n",
      " 4   VALUE         3248 non-null   float64       \n",
      "dtypes: datetime64[ns](1), float64(1), object(3)\n",
      "memory usage: 152.2+ KB\n"
     ]
    },
    {
     "name": "stderr",
     "output_type": "stream",
     "text": [
      "C:\\Users\\jloftus\\AppData\\Local\\Temp\\ipykernel_16172\\3213116988.py:1: SettingWithCopyWarning: \n",
      "A value is trying to be set on a copy of a slice from a DataFrame.\n",
      "Try using .loc[row_indexer,col_indexer] = value instead\n",
      "\n",
      "See the caveats in the documentation: https://pandas.pydata.org/pandas-docs/stable/user_guide/indexing.html#returning-a-view-versus-a-copy\n",
      "  df['Quarter']= pd.DatetimeIndex(df['Quarter'].values)\n"
     ]
    }
   ],
   "source": [
    "df['Quarter']= pd.DatetimeIndex(df['Quarter'].values)\n",
    "df.info()\n"
   ]
  },
  {
   "cell_type": "code",
   "execution_count": 161,
   "id": "a92b8d95",
   "metadata": {},
   "outputs": [],
   "source": [
    "cso_df = df[(df['Quarter'].dt.year>=2005)] #remove deaths prior to 2005"
   ]
  },
  {
   "cell_type": "code",
   "execution_count": 162,
   "id": "280f9fb8",
   "metadata": {},
   "outputs": [
    {
     "data": {
      "text/html": [
       "<div>\n",
       "<style scoped>\n",
       "    .dataframe tbody tr th:only-of-type {\n",
       "        vertical-align: middle;\n",
       "    }\n",
       "\n",
       "    .dataframe tbody tr th {\n",
       "        vertical-align: top;\n",
       "    }\n",
       "\n",
       "    .dataframe thead th {\n",
       "        text-align: right;\n",
       "    }\n",
       "</style>\n",
       "<table border=\"1\" class=\"dataframe\">\n",
       "  <thead>\n",
       "    <tr style=\"text-align: right;\">\n",
       "      <th></th>\n",
       "      <th>STATISTIC</th>\n",
       "      <th>Quarter</th>\n",
       "      <th>Age at Death</th>\n",
       "      <th>UNIT</th>\n",
       "      <th>VALUE</th>\n",
       "    </tr>\n",
       "  </thead>\n",
       "  <tbody>\n",
       "    <tr>\n",
       "      <th>2714</th>\n",
       "      <td>Deaths Registered Provisional</td>\n",
       "      <td>2005-01-01</td>\n",
       "      <td>75 Years and Over</td>\n",
       "      <td>Number</td>\n",
       "      <td>4616.0</td>\n",
       "    </tr>\n",
       "    <tr>\n",
       "      <th>2729</th>\n",
       "      <td>Deaths Registered Provisional</td>\n",
       "      <td>2005-04-01</td>\n",
       "      <td>75 Years and Over</td>\n",
       "      <td>Number</td>\n",
       "      <td>4440.0</td>\n",
       "    </tr>\n",
       "    <tr>\n",
       "      <th>2744</th>\n",
       "      <td>Deaths Registered Provisional</td>\n",
       "      <td>2005-07-01</td>\n",
       "      <td>75 Years and Over</td>\n",
       "      <td>Number</td>\n",
       "      <td>3699.0</td>\n",
       "    </tr>\n",
       "    <tr>\n",
       "      <th>2759</th>\n",
       "      <td>Deaths Registered Provisional</td>\n",
       "      <td>2005-10-01</td>\n",
       "      <td>75 Years and Over</td>\n",
       "      <td>Number</td>\n",
       "      <td>3663.0</td>\n",
       "    </tr>\n",
       "    <tr>\n",
       "      <th>2774</th>\n",
       "      <td>Deaths Registered Provisional</td>\n",
       "      <td>2006-01-01</td>\n",
       "      <td>75 Years and Over</td>\n",
       "      <td>Number</td>\n",
       "      <td>4702.0</td>\n",
       "    </tr>\n",
       "    <tr>\n",
       "      <th>...</th>\n",
       "      <td>...</td>\n",
       "      <td>...</td>\n",
       "      <td>...</td>\n",
       "      <td>...</td>\n",
       "      <td>...</td>\n",
       "    </tr>\n",
       "    <tr>\n",
       "      <th>3659</th>\n",
       "      <td>Deaths Registered Provisional</td>\n",
       "      <td>2020-10-01</td>\n",
       "      <td>75 Years and Over</td>\n",
       "      <td>Number</td>\n",
       "      <td>4642.0</td>\n",
       "    </tr>\n",
       "    <tr>\n",
       "      <th>3674</th>\n",
       "      <td>Deaths Registered Provisional</td>\n",
       "      <td>2021-01-01</td>\n",
       "      <td>75 Years and Over</td>\n",
       "      <td>Number</td>\n",
       "      <td>6550.0</td>\n",
       "    </tr>\n",
       "    <tr>\n",
       "      <th>3689</th>\n",
       "      <td>Deaths Registered Provisional</td>\n",
       "      <td>2021-04-01</td>\n",
       "      <td>75 Years and Over</td>\n",
       "      <td>Number</td>\n",
       "      <td>4339.0</td>\n",
       "    </tr>\n",
       "    <tr>\n",
       "      <th>3704</th>\n",
       "      <td>Deaths Registered Provisional</td>\n",
       "      <td>2021-07-01</td>\n",
       "      <td>75 Years and Over</td>\n",
       "      <td>Number</td>\n",
       "      <td>5112.0</td>\n",
       "    </tr>\n",
       "    <tr>\n",
       "      <th>3719</th>\n",
       "      <td>Deaths Registered Provisional</td>\n",
       "      <td>2021-10-01</td>\n",
       "      <td>75 Years and Over</td>\n",
       "      <td>Number</td>\n",
       "      <td>5474.0</td>\n",
       "    </tr>\n",
       "  </tbody>\n",
       "</table>\n",
       "<p>68 rows × 5 columns</p>\n",
       "</div>"
      ],
      "text/plain": [
       "                          STATISTIC    Quarter       Age at Death    UNIT  \\\n",
       "2714  Deaths Registered Provisional 2005-01-01  75 Years and Over  Number   \n",
       "2729  Deaths Registered Provisional 2005-04-01  75 Years and Over  Number   \n",
       "2744  Deaths Registered Provisional 2005-07-01  75 Years and Over  Number   \n",
       "2759  Deaths Registered Provisional 2005-10-01  75 Years and Over  Number   \n",
       "2774  Deaths Registered Provisional 2006-01-01  75 Years and Over  Number   \n",
       "...                             ...        ...                ...     ...   \n",
       "3659  Deaths Registered Provisional 2020-10-01  75 Years and Over  Number   \n",
       "3674  Deaths Registered Provisional 2021-01-01  75 Years and Over  Number   \n",
       "3689  Deaths Registered Provisional 2021-04-01  75 Years and Over  Number   \n",
       "3704  Deaths Registered Provisional 2021-07-01  75 Years and Over  Number   \n",
       "3719  Deaths Registered Provisional 2021-10-01  75 Years and Over  Number   \n",
       "\n",
       "       VALUE  \n",
       "2714  4616.0  \n",
       "2729  4440.0  \n",
       "2744  3699.0  \n",
       "2759  3663.0  \n",
       "2774  4702.0  \n",
       "...      ...  \n",
       "3659  4642.0  \n",
       "3674  6550.0  \n",
       "3689  4339.0  \n",
       "3704  5112.0  \n",
       "3719  5474.0  \n",
       "\n",
       "[68 rows x 5 columns]"
      ]
     },
     "execution_count": 162,
     "metadata": {},
     "output_type": "execute_result"
    }
   ],
   "source": [
    "cso_df_75 = cso_df[(cso_df['Age at Death'] == \"75 Years and Over\")]\n",
    "cso_df_75"
   ]
  },
  {
   "cell_type": "code",
   "execution_count": 163,
   "id": "7ded13ae",
   "metadata": {},
   "outputs": [
    {
     "data": {
      "text/plain": [
       "0.6149444697916852"
      ]
     },
     "execution_count": 163,
     "metadata": {},
     "output_type": "execute_result"
    }
   ],
   "source": [
    "cso_df_75 = cso_df[(cso_df['Age at Death'] == \"75 Years and Over\")]\n",
    "cso_df_75['VALUE'].sum()/cso_df['VALUE'].sum() #calculate percentage of total deaths that were in the 75 and over category"
   ]
  },
  {
   "cell_type": "code",
   "execution_count": 164,
   "id": "c4ff08ba",
   "metadata": {},
   "outputs": [
    {
     "data": {
      "text/plain": [
       "0.04911130260193374"
      ]
     },
     "execution_count": 164,
     "metadata": {},
     "output_type": "execute_result"
    }
   ],
   "source": [
    "df_25 = df[(df['Age at Death'] == \"Under 1 Year\") | (df['Age at Death'] == \"4 Weeks to 1 Year\") | (df['Age at Death'] == \"1 Week to 4 Weeks\") | (df['Age at Death'] == \"Under 7 Days\") | (df['Age at Death'] == \"1 to 7 Days\") | (df['Age at Death'] == \"Under 1 Day\") | (df['Age at Death'] == \"1 to 4 Years\") | (df['Age at Death'] == \"5 to 14 Years\") | (df['Age at Death'] == \"15 to 24 Years\")]\n",
    "df_25['VALUE'].sum()/df['VALUE'].sum() #calculate percentage of total deaths that were in the under 25 category"
   ]
  },
  {
   "cell_type": "code",
   "execution_count": 165,
   "id": "fcbd3664",
   "metadata": {},
   "outputs": [],
   "source": [
    "#Remove Death Age Groups that I'm not using\n",
    "cso_df = cso_df[(cso_df['Age at Death'] != \"Under 1 Year\") & (cso_df['Age at Death'] != \"4 Weeks to 1 Year\") & (cso_df['Age at Death'] != \"1 Week to 4 Weeks\") & (cso_df['Age at Death'] != \"Under 7 Days\") & (cso_df['Age at Death'] != \"1 to 7 Days\") & (cso_df['Age at Death'] != \"Under 1 Day\") & (cso_df['Age at Death'] != \"1 to 4 Years\") & (cso_df['Age at Death'] != \"5 to 14 Years\") & (cso_df['Age at Death'] != \"15 to 24 Years\") & (cso_df['Age at Death'] != \"75 Years and Over\")  ]\n"
   ]
  },
  {
   "cell_type": "code",
   "execution_count": 166,
   "id": "5c2323c5",
   "metadata": {},
   "outputs": [
    {
     "data": {
      "text/plain": [
       "VALUE    179774.0\n",
       "dtype: float64"
      ]
     },
     "execution_count": 166,
     "metadata": {},
     "output_type": "execute_result"
    }
   ],
   "source": [
    "cso_deaths_by_q = cso_df.groupby('Quarter')['VALUE'].sum()\n",
    "cso_deaths_by_q = cso_deaths_by_q.to_frame()\n",
    "cso_deaths_by_q.sum() #calculate total number of CSO deaths\n"
   ]
  },
  {
   "cell_type": "code",
   "execution_count": 167,
   "id": "b34b08d7",
   "metadata": {},
   "outputs": [],
   "source": [
    "df_75['Quarter']= pd.DatetimeIndex(df_75['Quarter'].values)\n",
    "deaths_by_q_75 = df_75[df_75['Quarter'].dt.year>=2005].groupby('Quarter')['VALUE'].sum()\n",
    "deaths_by_q_75= deaths_by_q_75.to_frame()\n",
    "df_under_25['Quarter']= pd.DatetimeIndex(df_under_25['Quarter'].values)\n",
    "deaths_by_q_under_25 = df_under_25[df_under_25['Quarter'].dt.year>=2005].groupby('Quarter')['VALUE'].sum()\n",
    "deaths_by_q_under_25 = deaths_by_q_under_25.to_frame()"
   ]
  },
  {
   "cell_type": "code",
   "execution_count": 168,
   "id": "0005cfcd",
   "metadata": {},
   "outputs": [
    {
     "name": "stderr",
     "output_type": "stream",
     "text": [
      "C:\\Users\\jloftus\\AppData\\Local\\Temp\\ipykernel_16172\\3908042948.py:12: UserWarning: Matplotlib is currently using agg, which is a non-GUI backend, so cannot show the figure.\n",
      "  plt.show()\n"
     ]
    }
   ],
   "source": [
    "sns.set()\n",
    "from matplotlib.pyplot import figure\n",
    "figure(figsize=(16, 8))\n",
    "plt.plot(deaths_by_q_75.VALUE, color = \"red\", label = '75 Years olds and over')\n",
    "plt.plot(cso_deaths_by_q.VALUE, color = \"steelblue\", label = '25 to 74 Year olds')\n",
    "plt.plot(deaths_by_q_under_25.VALUE, color='pink', label = 'Under 25 years old')\n",
    "plt.xlabel('Number of Irish Population Deaths Registered per Quarter', fontsize = 20)\n",
    "plt.ylabel('Year', fontsize = 20)\n",
    "plt.xticks(fontsize = 16)\n",
    "plt.yticks(fontsize = 16)\n",
    "plt.legend(fontsize = 16)\n",
    "plt.show()"
   ]
  },
  {
   "cell_type": "markdown",
   "id": "b6d5e6f2",
   "metadata": {},
   "source": [
    "### Calculate CSO Deaths Seasonal Variation"
   ]
  },
  {
   "cell_type": "code",
   "execution_count": 169,
   "id": "8b234a58",
   "metadata": {},
   "outputs": [
    {
     "data": {
      "text/html": [
       "<div>\n",
       "<style scoped>\n",
       "    .dataframe tbody tr th:only-of-type {\n",
       "        vertical-align: middle;\n",
       "    }\n",
       "\n",
       "    .dataframe tbody tr th {\n",
       "        vertical-align: top;\n",
       "    }\n",
       "\n",
       "    .dataframe thead th {\n",
       "        text-align: right;\n",
       "    }\n",
       "</style>\n",
       "<table border=\"1\" class=\"dataframe\">\n",
       "  <thead>\n",
       "    <tr style=\"text-align: right;\">\n",
       "      <th></th>\n",
       "      <th>Q</th>\n",
       "      <th>Average Seasonal Variation - CSO Deaths</th>\n",
       "    </tr>\n",
       "  </thead>\n",
       "  <tbody>\n",
       "    <tr>\n",
       "      <th>0</th>\n",
       "      <td>Q1</td>\n",
       "      <td>0.012098</td>\n",
       "    </tr>\n",
       "    <tr>\n",
       "      <th>1</th>\n",
       "      <td>Q2</td>\n",
       "      <td>-0.000664</td>\n",
       "    </tr>\n",
       "    <tr>\n",
       "      <th>2</th>\n",
       "      <td>Q3</td>\n",
       "      <td>-0.003569</td>\n",
       "    </tr>\n",
       "    <tr>\n",
       "      <th>3</th>\n",
       "      <td>Q4</td>\n",
       "      <td>-0.007865</td>\n",
       "    </tr>\n",
       "  </tbody>\n",
       "</table>\n",
       "</div>"
      ],
      "text/plain": [
       "    Q  Average Seasonal Variation - CSO Deaths\n",
       "0  Q1                                 0.012098\n",
       "1  Q2                                -0.000664\n",
       "2  Q3                                -0.003569\n",
       "3  Q4                                -0.007865"
      ]
     },
     "execution_count": 169,
     "metadata": {},
     "output_type": "execute_result"
    }
   ],
   "source": [
    "#Sum by Quarter\n",
    "cso_deaths_by_q.rename(columns = {'VALUE':'Quarterly Deaths'}, inplace = True)\n",
    "cso_deaths_by_qy = cso_deaths_by_q\n",
    "cso_deaths_by_qy['Year'] =  pd.PeriodIndex(cso_deaths_by_qy.index, freq='Y')\n",
    "cso_deaths_by_qy = cso_deaths_by_qy.reset_index(level = ['Quarter'])\n",
    "#Sum by Year\n",
    "cso_deaths_by_y = pd.pivot_table(cso_deaths_by_q,index=['Year'],aggfunc={'Quarterly Deaths': sum}).rename(columns={'Quarterly Deaths': 'Annual Deaths'})\n",
    "cso_deaths_by_y = cso_deaths_by_y.reset_index(level = ['Year'])\n",
    "\n",
    "cso_deaths_qy = pd.merge(\n",
    "    left=cso_deaths_by_qy,\n",
    "    right=cso_deaths_by_y,   \n",
    "    how='left'\n",
    ")\n",
    "\n",
    "cso_deaths_qy['CSO SEASONAL VARIATION'] = cso_deaths_qy['Quarterly Deaths']/cso_deaths_qy['Annual Deaths']\n",
    "cso_deaths_qy['CSO SEASONAL VARIATION'] = cso_deaths_qy['CSO SEASONAL VARIATION']-0.25\n",
    "cso_deaths_qy['Quarter'] = pd.PeriodIndex(cso_deaths_qy['Quarter'], freq='Q')\n",
    "cso_deaths_qy['Q'] = (cso_deaths_qy['Quarter'].astype(str)).str[-2:]\n",
    "cso_deaths_q_avg = (cso_deaths_qy.groupby('Q')['CSO SEASONAL VARIATION'].mean().to_frame()).rename(columns={'CSO SEASONAL VARIATION': 'Average Seasonal Variation - CSO Deaths'})\n",
    "cso_deaths_q_avg = cso_deaths_q_avg.reset_index()\n",
    "cso_deaths_q_avg"
   ]
  },
  {
   "cell_type": "code",
   "execution_count": 170,
   "id": "eb48a41b",
   "metadata": {},
   "outputs": [
    {
     "data": {
      "text/plain": [
       "0.007439768314107906"
      ]
     },
     "execution_count": 170,
     "metadata": {},
     "output_type": "execute_result"
    }
   ],
   "source": [
    "sd_cso_deaths = np.std(cso_deaths_q_avg['Average Seasonal Variation - CSO Deaths']) #calculate standard deviation of CSO deaths seasonal variation\n",
    "sd_cso_deaths"
   ]
  },
  {
   "cell_type": "code",
   "execution_count": 171,
   "id": "be62abbd",
   "metadata": {},
   "outputs": [
    {
     "name": "stderr",
     "output_type": "stream",
     "text": [
      "C:\\Users\\jloftus\\AppData\\Local\\Temp\\ipykernel_16172\\302600278.py:10: UserWarning: Matplotlib is currently using agg, which is a non-GUI backend, so cannot show the figure.\n",
      "  plt.show()\n"
     ]
    }
   ],
   "source": [
    "sns.set()\n",
    "plt.rcParams[\"figure.figsize\"] = (16,8)\n",
    "sns.barplot(x = 'Q', y = 'Average Seasonal Variation - CSO Deaths', data = cso_deaths_q_avg)\n",
    "plt.xticks(fontsize=14)\n",
    "plt.yticks(fontsize=14)\n",
    "plt.xlabel(\"Calendar Year Quarter\", size = 16)\n",
    "plt.ylabel(\"Average Seasonal Variation\",size = 16)\n",
    "#plt.title('Average Seasonal Variation by Calendar Year Quarter (2005 to 2021) : Death Claims', size = 16, fontweight = \"bold\")\n",
    "plt.legend(fontsize = 14)\n",
    "plt.show()"
   ]
  },
  {
   "cell_type": "markdown",
   "id": "faf51ddb",
   "metadata": {},
   "source": [
    "### Seasonal Decomposition - Number of Quarterly Deaths Age 25 to 74"
   ]
  },
  {
   "cell_type": "code",
   "execution_count": 172,
   "id": "ccb4a812",
   "metadata": {},
   "outputs": [
    {
     "name": "stdout",
     "output_type": "stream",
     "text": [
      "Seasonal Decomposition: CSO Irish Population Deaths Age 25 to 74 (2005 to 2021)\n"
     ]
    },
    {
     "name": "stderr",
     "output_type": "stream",
     "text": [
      "C:\\Users\\jloftus\\AppData\\Local\\Temp\\ipykernel_16172\\533751796.py:11: UserWarning: Matplotlib is currently using agg, which is a non-GUI backend, so cannot show the figure.\n",
      "  plt.show()\n"
     ]
    }
   ],
   "source": [
    "import matplotlib as mpl\n",
    "mpl.rcParams.update(mpl.rcParamsDefault)\n",
    "\n",
    "series = cso_deaths_qy.set_index('Quarter')\n",
    "series = series['Quarterly Deaths']\n",
    "series.interpolate(inplace = True)\n",
    "series.index=series.index.to_timestamp()\n",
    "result = seasonal_decompose(series, model='additive',period =12)\n",
    "print(\"Seasonal Decomposition: CSO Irish Population Deaths Age 25 to 74 (2005 to 2021)\")\n",
    "result.plot()\n",
    "plt.show()"
   ]
  },
  {
   "cell_type": "markdown",
   "id": "25531844",
   "metadata": {},
   "source": [
    "### Augmented Dickey Fuller Test -  Seasonal Variation in Number of Deaths Age 25 to 74"
   ]
  },
  {
   "cell_type": "code",
   "execution_count": 173,
   "id": "1b8a0f2a",
   "metadata": {},
   "outputs": [
    {
     "name": "stdout",
     "output_type": "stream",
     "text": [
      "ADF Statistic (CSO Deaths Seasonal Variation (2005 to 2021) - Age 25 to 74): -2.738597\n",
      "p-value (CSO Deaths Seasonal Variation (2005 to 2021) - Age 25 to 74): 0.067594\n",
      "Critical Values (CSO Deaths Seasonal Variation (2005 to 2021) - Age 25 to 74):\n",
      "\t1%: -3.544\n",
      "\t5%: -2.911\n",
      "\t10%: -2.593\n"
     ]
    }
   ],
   "source": [
    "X =cso_deaths_qy.set_index('Quarter')\n",
    "X = cso_deaths_qy['CSO SEASONAL VARIATION']\n",
    "result = adfuller(X)\n",
    "print('ADF Statistic (CSO Deaths Seasonal Variation (2005 to 2021) - Age 25 to 74): %f' % result[0])\n",
    "print('p-value (CSO Deaths Seasonal Variation (2005 to 2021) - Age 25 to 74): %f' % result[1])\n",
    "print('Critical Values (CSO Deaths Seasonal Variation (2005 to 2021) - Age 25 to 74):')\n",
    "for key, value in result[4].items():\n",
    "\tprint('\\t%s: %.3f' % (key, value))\n"
   ]
  },
  {
   "cell_type": "markdown",
   "id": "6c834b9c",
   "metadata": {},
   "source": [
    "## Export Cleaned CSO Deaths Dataset"
   ]
  },
  {
   "cell_type": "code",
   "execution_count": 174,
   "id": "7611636e",
   "metadata": {},
   "outputs": [],
   "source": [
    "cso_deaths_output = cso_deaths_qy.drop(columns =['Quarterly Deaths', 'Year','Annual Deaths','Q'] )"
   ]
  },
  {
   "cell_type": "code",
   "execution_count": 175,
   "id": "8c1893cb",
   "metadata": {},
   "outputs": [
    {
     "name": "stdout",
     "output_type": "stream",
     "text": [
      "<class 'pandas.core.frame.DataFrame'>\n",
      "Int64Index: 68 entries, 0 to 67\n",
      "Data columns (total 2 columns):\n",
      " #   Column                  Non-Null Count  Dtype        \n",
      "---  ------                  --------------  -----        \n",
      " 0   Quarter                 68 non-null     period[Q-DEC]\n",
      " 1   CSO SEASONAL VARIATION  68 non-null     float64      \n",
      "dtypes: float64(1), period[Q-DEC](1)\n",
      "memory usage: 1.6 KB\n"
     ]
    }
   ],
   "source": [
    "cso_deaths_output.info()"
   ]
  },
  {
   "cell_type": "code",
   "execution_count": 176,
   "id": "b2296f0f",
   "metadata": {},
   "outputs": [],
   "source": [
    "#write csv file\n",
    "cso_deaths_output.to_csv(\"CSO Deaths Seasonality.csv\", index=False)"
   ]
  },
  {
   "cell_type": "markdown",
   "id": "2925a0d6",
   "metadata": {},
   "source": [
    "## Compare Claim Deaths Seasonal Variation with CSO Deaths Seasonal Variation"
   ]
  },
  {
   "cell_type": "code",
   "execution_count": 177,
   "id": "e57807be",
   "metadata": {},
   "outputs": [
    {
     "data": {
      "text/html": [
       "<div>\n",
       "<style scoped>\n",
       "    .dataframe tbody tr th:only-of-type {\n",
       "        vertical-align: middle;\n",
       "    }\n",
       "\n",
       "    .dataframe tbody tr th {\n",
       "        vertical-align: top;\n",
       "    }\n",
       "\n",
       "    .dataframe thead th {\n",
       "        text-align: right;\n",
       "    }\n",
       "</style>\n",
       "<table border=\"1\" class=\"dataframe\">\n",
       "  <thead>\n",
       "    <tr style=\"text-align: right;\">\n",
       "      <th></th>\n",
       "      <th>Q</th>\n",
       "      <th>Average Seasonal Variation - CSO Deaths</th>\n",
       "    </tr>\n",
       "  </thead>\n",
       "  <tbody>\n",
       "    <tr>\n",
       "      <th>0</th>\n",
       "      <td>Q1</td>\n",
       "      <td>0.012098</td>\n",
       "    </tr>\n",
       "    <tr>\n",
       "      <th>1</th>\n",
       "      <td>Q2</td>\n",
       "      <td>-0.000664</td>\n",
       "    </tr>\n",
       "    <tr>\n",
       "      <th>2</th>\n",
       "      <td>Q3</td>\n",
       "      <td>-0.003569</td>\n",
       "    </tr>\n",
       "    <tr>\n",
       "      <th>3</th>\n",
       "      <td>Q4</td>\n",
       "      <td>-0.007865</td>\n",
       "    </tr>\n",
       "  </tbody>\n",
       "</table>\n",
       "</div>"
      ],
      "text/plain": [
       "    Q  Average Seasonal Variation - CSO Deaths\n",
       "0  Q1                                 0.012098\n",
       "1  Q2                                -0.000664\n",
       "2  Q3                                -0.003569\n",
       "3  Q4                                -0.007865"
      ]
     },
     "execution_count": 177,
     "metadata": {},
     "output_type": "execute_result"
    }
   ],
   "source": [
    "cso_deaths_q_avg"
   ]
  },
  {
   "cell_type": "code",
   "execution_count": 178,
   "id": "f19b2945",
   "metadata": {},
   "outputs": [
    {
     "data": {
      "text/html": [
       "<div>\n",
       "<style scoped>\n",
       "    .dataframe tbody tr th:only-of-type {\n",
       "        vertical-align: middle;\n",
       "    }\n",
       "\n",
       "    .dataframe tbody tr th {\n",
       "        vertical-align: top;\n",
       "    }\n",
       "\n",
       "    .dataframe thead th {\n",
       "        text-align: right;\n",
       "    }\n",
       "</style>\n",
       "<table border=\"1\" class=\"dataframe\">\n",
       "  <thead>\n",
       "    <tr style=\"text-align: right;\">\n",
       "      <th></th>\n",
       "      <th>Q</th>\n",
       "      <th>Average Seasonal Variation - Death Claims</th>\n",
       "    </tr>\n",
       "  </thead>\n",
       "  <tbody>\n",
       "    <tr>\n",
       "      <th>0</th>\n",
       "      <td>Q1</td>\n",
       "      <td>0.024034</td>\n",
       "    </tr>\n",
       "    <tr>\n",
       "      <th>1</th>\n",
       "      <td>Q2</td>\n",
       "      <td>-0.016384</td>\n",
       "    </tr>\n",
       "    <tr>\n",
       "      <th>2</th>\n",
       "      <td>Q3</td>\n",
       "      <td>-0.014277</td>\n",
       "    </tr>\n",
       "    <tr>\n",
       "      <th>3</th>\n",
       "      <td>Q4</td>\n",
       "      <td>0.006627</td>\n",
       "    </tr>\n",
       "  </tbody>\n",
       "</table>\n",
       "</div>"
      ],
      "text/plain": [
       "    Q  Average Seasonal Variation - Death Claims\n",
       "0  Q1                                   0.024034\n",
       "1  Q2                                  -0.016384\n",
       "2  Q3                                  -0.014277\n",
       "3  Q4                                   0.006627"
      ]
     },
     "execution_count": 178,
     "metadata": {},
     "output_type": "execute_result"
    }
   ],
   "source": [
    "death_claims_q_avg"
   ]
  },
  {
   "cell_type": "code",
   "execution_count": 179,
   "id": "578b56c2",
   "metadata": {},
   "outputs": [],
   "source": [
    "combined_deaths_q_avg = pd.merge(\n",
    "    left=death_claims_q_avg,\n",
    "    right=cso_deaths_q_avg,   \n",
    "    how='left'\n",
    ")\n",
    "#combined_deaths_q_avg = combined_deaths_q_avg.set_index('Q')"
   ]
  },
  {
   "cell_type": "code",
   "execution_count": 180,
   "id": "8cdc49ef",
   "metadata": {},
   "outputs": [
    {
     "data": {
      "text/html": [
       "<div>\n",
       "<style scoped>\n",
       "    .dataframe tbody tr th:only-of-type {\n",
       "        vertical-align: middle;\n",
       "    }\n",
       "\n",
       "    .dataframe tbody tr th {\n",
       "        vertical-align: top;\n",
       "    }\n",
       "\n",
       "    .dataframe thead th {\n",
       "        text-align: right;\n",
       "    }\n",
       "</style>\n",
       "<table border=\"1\" class=\"dataframe\">\n",
       "  <thead>\n",
       "    <tr style=\"text-align: right;\">\n",
       "      <th></th>\n",
       "      <th>Q</th>\n",
       "      <th>Average Seasonal Variation - Death Claims</th>\n",
       "      <th>Average Seasonal Variation - CSO Deaths</th>\n",
       "    </tr>\n",
       "  </thead>\n",
       "  <tbody>\n",
       "    <tr>\n",
       "      <th>0</th>\n",
       "      <td>Q1</td>\n",
       "      <td>0.024034</td>\n",
       "      <td>0.012098</td>\n",
       "    </tr>\n",
       "    <tr>\n",
       "      <th>1</th>\n",
       "      <td>Q2</td>\n",
       "      <td>-0.016384</td>\n",
       "      <td>-0.000664</td>\n",
       "    </tr>\n",
       "    <tr>\n",
       "      <th>2</th>\n",
       "      <td>Q3</td>\n",
       "      <td>-0.014277</td>\n",
       "      <td>-0.003569</td>\n",
       "    </tr>\n",
       "    <tr>\n",
       "      <th>3</th>\n",
       "      <td>Q4</td>\n",
       "      <td>0.006627</td>\n",
       "      <td>-0.007865</td>\n",
       "    </tr>\n",
       "  </tbody>\n",
       "</table>\n",
       "</div>"
      ],
      "text/plain": [
       "    Q  Average Seasonal Variation - Death Claims  \\\n",
       "0  Q1                                   0.024034   \n",
       "1  Q2                                  -0.016384   \n",
       "2  Q3                                  -0.014277   \n",
       "3  Q4                                   0.006627   \n",
       "\n",
       "   Average Seasonal Variation - CSO Deaths  \n",
       "0                                 0.012098  \n",
       "1                                -0.000664  \n",
       "2                                -0.003569  \n",
       "3                                -0.007865  "
      ]
     },
     "execution_count": 180,
     "metadata": {},
     "output_type": "execute_result"
    }
   ],
   "source": [
    "combined_deaths_q_avg"
   ]
  },
  {
   "cell_type": "code",
   "execution_count": 181,
   "id": "3473962a",
   "metadata": {},
   "outputs": [
    {
     "data": {
      "text/html": [
       "<div>\n",
       "<style scoped>\n",
       "    .dataframe tbody tr th:only-of-type {\n",
       "        vertical-align: middle;\n",
       "    }\n",
       "\n",
       "    .dataframe tbody tr th {\n",
       "        vertical-align: top;\n",
       "    }\n",
       "\n",
       "    .dataframe thead th {\n",
       "        text-align: right;\n",
       "    }\n",
       "</style>\n",
       "<table border=\"1\" class=\"dataframe\">\n",
       "  <thead>\n",
       "    <tr style=\"text-align: right;\">\n",
       "      <th></th>\n",
       "      <th>Q</th>\n",
       "      <th>variable</th>\n",
       "      <th>value</th>\n",
       "    </tr>\n",
       "  </thead>\n",
       "  <tbody>\n",
       "    <tr>\n",
       "      <th>0</th>\n",
       "      <td>Q1</td>\n",
       "      <td>Average Seasonal Variation - Death Claims</td>\n",
       "      <td>0.024034</td>\n",
       "    </tr>\n",
       "    <tr>\n",
       "      <th>1</th>\n",
       "      <td>Q2</td>\n",
       "      <td>Average Seasonal Variation - Death Claims</td>\n",
       "      <td>-0.016384</td>\n",
       "    </tr>\n",
       "    <tr>\n",
       "      <th>2</th>\n",
       "      <td>Q3</td>\n",
       "      <td>Average Seasonal Variation - Death Claims</td>\n",
       "      <td>-0.014277</td>\n",
       "    </tr>\n",
       "    <tr>\n",
       "      <th>3</th>\n",
       "      <td>Q4</td>\n",
       "      <td>Average Seasonal Variation - Death Claims</td>\n",
       "      <td>0.006627</td>\n",
       "    </tr>\n",
       "    <tr>\n",
       "      <th>4</th>\n",
       "      <td>Q1</td>\n",
       "      <td>Average Seasonal Variation - CSO Deaths</td>\n",
       "      <td>0.012098</td>\n",
       "    </tr>\n",
       "    <tr>\n",
       "      <th>5</th>\n",
       "      <td>Q2</td>\n",
       "      <td>Average Seasonal Variation - CSO Deaths</td>\n",
       "      <td>-0.000664</td>\n",
       "    </tr>\n",
       "    <tr>\n",
       "      <th>6</th>\n",
       "      <td>Q3</td>\n",
       "      <td>Average Seasonal Variation - CSO Deaths</td>\n",
       "      <td>-0.003569</td>\n",
       "    </tr>\n",
       "    <tr>\n",
       "      <th>7</th>\n",
       "      <td>Q4</td>\n",
       "      <td>Average Seasonal Variation - CSO Deaths</td>\n",
       "      <td>-0.007865</td>\n",
       "    </tr>\n",
       "  </tbody>\n",
       "</table>\n",
       "</div>"
      ],
      "text/plain": [
       "    Q                                   variable     value\n",
       "0  Q1  Average Seasonal Variation - Death Claims  0.024034\n",
       "1  Q2  Average Seasonal Variation - Death Claims -0.016384\n",
       "2  Q3  Average Seasonal Variation - Death Claims -0.014277\n",
       "3  Q4  Average Seasonal Variation - Death Claims  0.006627\n",
       "4  Q1    Average Seasonal Variation - CSO Deaths  0.012098\n",
       "5  Q2    Average Seasonal Variation - CSO Deaths -0.000664\n",
       "6  Q3    Average Seasonal Variation - CSO Deaths -0.003569\n",
       "7  Q4    Average Seasonal Variation - CSO Deaths -0.007865"
      ]
     },
     "execution_count": 181,
     "metadata": {},
     "output_type": "execute_result"
    }
   ],
   "source": [
    "combined_deaths_q_avg = combined_deaths_q_avg.melt(id_vars = \"Q\")\n",
    "combined_deaths_q_avg"
   ]
  },
  {
   "cell_type": "code",
   "execution_count": 182,
   "id": "55573874",
   "metadata": {},
   "outputs": [
    {
     "name": "stderr",
     "output_type": "stream",
     "text": [
      "C:\\Users\\jloftus\\AppData\\Local\\Temp\\ipykernel_16172\\1807715562.py:10: UserWarning: Matplotlib is currently using agg, which is a non-GUI backend, so cannot show the figure.\n",
      "  plt.show()\n"
     ]
    }
   ],
   "source": [
    "sns.set()\n",
    "plt.rcParams[\"figure.figsize\"] = (16,8)\n",
    "sns.barplot(x = 'Q', y = combined_deaths_q_avg.value, hue = combined_deaths_q_avg.variable, data = combined_deaths_q_avg)\n",
    "plt.xticks(fontsize=16)\n",
    "plt.yticks(fontsize=16)\n",
    "plt.xlabel(\"Calendar Year Quarter\", size = 20)\n",
    "plt.ylabel(\"Average Quarterly Seasonal Variation\",size = 20)\n",
    "#plt.title('Average Seasonal Variation by Calendar Year Quarter (2005 to 2021) : Death Claims', size = 16, fontweight = \"bold\")\n",
    "plt.legend(fontsize = 14)\n",
    "plt.show()"
   ]
  },
  {
   "cell_type": "code",
   "execution_count": null,
   "id": "7d8019af",
   "metadata": {},
   "outputs": [],
   "source": []
  },
  {
   "cell_type": "code",
   "execution_count": null,
   "id": "ef61b42d",
   "metadata": {},
   "outputs": [],
   "source": []
  },
  {
   "cell_type": "code",
   "execution_count": null,
   "id": "ca8efad8",
   "metadata": {},
   "outputs": [],
   "source": []
  }
 ],
 "metadata": {
  "kernelspec": {
   "display_name": "Python 3 (ipykernel)",
   "language": "python",
   "name": "python3"
  },
  "language_info": {
   "codemirror_mode": {
    "name": "ipython",
    "version": 3
   },
   "file_extension": ".py",
   "mimetype": "text/x-python",
   "name": "python",
   "nbconvert_exporter": "python",
   "pygments_lexer": "ipython3",
   "version": "3.9.13"
  }
 },
 "nbformat": 4,
 "nbformat_minor": 5
}
